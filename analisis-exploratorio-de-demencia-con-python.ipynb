{
 "cells": [
  {
   "cell_type": "markdown",
   "id": "6877364b",
   "metadata": {
    "id": "gN-rdmPnv60s",
    "papermill": {
     "duration": 0.058742,
     "end_time": "2021-08-28T00:40:30.617273",
     "exception": false,
     "start_time": "2021-08-28T00:40:30.558531",
     "status": "completed"
    },
    "tags": []
   },
   "source": [
    "# **Variables asociadas al diagnóstico de Demencia. Análisis exploratorio de datos con Python**"
   ]
  },
  {
   "cell_type": "markdown",
   "id": "f15493e0",
   "metadata": {
    "id": "UWzYSpCEwHJ4",
    "papermill": {
     "duration": 0.056978,
     "end_time": "2021-08-28T00:40:30.732664",
     "exception": false,
     "start_time": "2021-08-28T00:40:30.675686",
     "status": "completed"
    },
    "tags": []
   },
   "source": [
    "**Data:**\n",
    "> **oasis_cross-sectional.csv**\n",
    ">\n",
    "> - Este conjunto de datos se obtuvo de consultar un determinado tiempo la sgte url: https://www.oasis-brains.org/#data \n",
    "> - Este dataset contiene datos de resonancia realizados en 416 sujetos, ademas se mencionan datos socidemograficos y tests cognitivos (MMSE y CDR)\n",
    "\n",
    "**Link de descarga de los datos:**\n",
    "> https://www.oasis-brains.org/files/oasis_cross-sectional.csv \n",
    "\n",
    "**Columnas en el dataset:**\n",
    "        \n",
    "        Genero --> Contiene el sexo biologico del sujeto (Femenino/Masculino)\n",
    "        Lateralidad_Manual --> Contiene la dominancia manual del sujeto evaluado.\n",
    "        Edad --> Contiene la edad en años del sujeto.\n",
    "        Educacion--> Almacena el grado de instrucción. Clasificado entre las categorías: 1: secundaria incompleta, 2: secundaria completa, 3: universidad incompleta, 4: universidad completa ,5: post-bachiller\n",
    "        NSE --> Contiene el nivel socioeconomico del sujeto. Clasificado entre las categorías de 1 (más alto status) to 5 ( más bajo status)\n",
    "        MMSE --> Almacena el puntaje en el test MMSE, que mide la funcion cognitiva. Rangos de 0 (Peor) a 30 (Mejor), puntajes menores a 24 sugiere función anormal. \n",
    "        CDR --> Contiene el puntaje en el test CDR, que evalúa el grado de deterioro cognitivo. 0 : Sin demencia, 0.5 : Demencia muy leve, 1 : Demencia leve y 2 : Demencia moderada.\n",
    "        eTIV --> Volumen intracraneal total estimado\n",
    "        nWBV --> Volumen total del cerebro normalizado\n",
    "        ASF --> Factor de escala Atlas (ASF) \n",
    "        Delay --> Almacena la cantidad de días entre las sesiones de MRI\n",
    "\n"
   ]
  },
  {
   "cell_type": "markdown",
   "id": "a30d3adc",
   "metadata": {
    "id": "IxD1ZBh9--R1",
    "papermill": {
     "duration": 0.055497,
     "end_time": "2021-08-28T00:40:30.844111",
     "exception": false,
     "start_time": "2021-08-28T00:40:30.788614",
     "status": "completed"
    },
    "tags": []
   },
   "source": [
    "**Carga de Librerías**"
   ]
  },
  {
   "cell_type": "code",
   "execution_count": 1,
   "id": "8dc28dad",
   "metadata": {
    "execution": {
     "iopub.execute_input": "2021-08-28T00:40:30.969018Z",
     "iopub.status.busy": "2021-08-28T00:40:30.968264Z",
     "iopub.status.idle": "2021-08-28T00:40:32.371572Z",
     "shell.execute_reply": "2021-08-28T00:40:32.370865Z",
     "shell.execute_reply.started": "2021-08-28T00:39:23.281869Z"
    },
    "id": "5eJ-G9y1ut7A",
    "papermill": {
     "duration": 1.471076,
     "end_time": "2021-08-28T00:40:32.371742",
     "exception": false,
     "start_time": "2021-08-28T00:40:30.900666",
     "status": "completed"
    },
    "tags": []
   },
   "outputs": [],
   "source": [
    "import pandas as pd\n",
    "import numpy as  np\n",
    "import matplotlib.pyplot as plt\n",
    "import seaborn as sns\n",
    "from sklearn.preprocessing import StandardScaler\n",
    "from sklearn.ensemble import IsolationForest\n",
    "from mpl_toolkits.mplot3d import Axes3D\n",
    "from warnings import filterwarnings \n",
    "filterwarnings('ignore')"
   ]
  },
  {
   "cell_type": "markdown",
   "id": "265ccca0",
   "metadata": {
    "id": "gzZs2Hihbxb5",
    "papermill": {
     "duration": 0.055528,
     "end_time": "2021-08-28T00:40:32.483397",
     "exception": false,
     "start_time": "2021-08-28T00:40:32.427869",
     "status": "completed"
    },
    "tags": []
   },
   "source": [
    "**Obtención del dataset**"
   ]
  },
  {
   "cell_type": "code",
   "execution_count": 2,
   "id": "e36e7ef5",
   "metadata": {
    "execution": {
     "iopub.execute_input": "2021-08-28T00:40:32.601356Z",
     "iopub.status.busy": "2021-08-28T00:40:32.600643Z",
     "iopub.status.idle": "2021-08-28T00:40:32.661608Z",
     "shell.execute_reply": "2021-08-28T00:40:32.662101Z",
     "shell.execute_reply.started": "2021-08-28T00:39:23.306049Z"
    },
    "id": "bU7KvgPzbKxr",
    "outputId": "d62ee87b-6a7b-4b94-ad45-b46881d1c192",
    "papermill": {
     "duration": 0.122949,
     "end_time": "2021-08-28T00:40:32.662268",
     "exception": false,
     "start_time": "2021-08-28T00:40:32.539319",
     "status": "completed"
    },
    "tags": []
   },
   "outputs": [
    {
     "data": {
      "text/html": [
       "<div>\n",
       "<style scoped>\n",
       "    .dataframe tbody tr th:only-of-type {\n",
       "        vertical-align: middle;\n",
       "    }\n",
       "\n",
       "    .dataframe tbody tr th {\n",
       "        vertical-align: top;\n",
       "    }\n",
       "\n",
       "    .dataframe thead th {\n",
       "        text-align: right;\n",
       "    }\n",
       "</style>\n",
       "<table border=\"1\" class=\"dataframe\">\n",
       "  <thead>\n",
       "    <tr style=\"text-align: right;\">\n",
       "      <th></th>\n",
       "      <th>ID</th>\n",
       "      <th>Genero</th>\n",
       "      <th>Lateralidad_Manual</th>\n",
       "      <th>Edad</th>\n",
       "      <th>Educacion</th>\n",
       "      <th>NSE</th>\n",
       "      <th>MMSE</th>\n",
       "      <th>CDR</th>\n",
       "      <th>eTIV</th>\n",
       "      <th>nWBV</th>\n",
       "      <th>ASF</th>\n",
       "      <th>Delay</th>\n",
       "    </tr>\n",
       "  </thead>\n",
       "  <tbody>\n",
       "    <tr>\n",
       "      <th>0</th>\n",
       "      <td>OAS1_0001_MR1</td>\n",
       "      <td>F</td>\n",
       "      <td>R</td>\n",
       "      <td>74</td>\n",
       "      <td>2.0</td>\n",
       "      <td>3.0</td>\n",
       "      <td>29.0</td>\n",
       "      <td>0.0</td>\n",
       "      <td>1344</td>\n",
       "      <td>0.743</td>\n",
       "      <td>1.306</td>\n",
       "      <td>NaN</td>\n",
       "    </tr>\n",
       "    <tr>\n",
       "      <th>1</th>\n",
       "      <td>OAS1_0002_MR1</td>\n",
       "      <td>F</td>\n",
       "      <td>R</td>\n",
       "      <td>55</td>\n",
       "      <td>4.0</td>\n",
       "      <td>1.0</td>\n",
       "      <td>29.0</td>\n",
       "      <td>0.0</td>\n",
       "      <td>1147</td>\n",
       "      <td>0.810</td>\n",
       "      <td>1.531</td>\n",
       "      <td>NaN</td>\n",
       "    </tr>\n",
       "    <tr>\n",
       "      <th>2</th>\n",
       "      <td>OAS1_0003_MR1</td>\n",
       "      <td>F</td>\n",
       "      <td>R</td>\n",
       "      <td>73</td>\n",
       "      <td>4.0</td>\n",
       "      <td>3.0</td>\n",
       "      <td>27.0</td>\n",
       "      <td>0.5</td>\n",
       "      <td>1454</td>\n",
       "      <td>0.708</td>\n",
       "      <td>1.207</td>\n",
       "      <td>NaN</td>\n",
       "    </tr>\n",
       "    <tr>\n",
       "      <th>3</th>\n",
       "      <td>OAS1_0004_MR1</td>\n",
       "      <td>M</td>\n",
       "      <td>R</td>\n",
       "      <td>28</td>\n",
       "      <td>NaN</td>\n",
       "      <td>NaN</td>\n",
       "      <td>NaN</td>\n",
       "      <td>NaN</td>\n",
       "      <td>1588</td>\n",
       "      <td>0.803</td>\n",
       "      <td>1.105</td>\n",
       "      <td>NaN</td>\n",
       "    </tr>\n",
       "    <tr>\n",
       "      <th>4</th>\n",
       "      <td>OAS1_0005_MR1</td>\n",
       "      <td>M</td>\n",
       "      <td>R</td>\n",
       "      <td>18</td>\n",
       "      <td>NaN</td>\n",
       "      <td>NaN</td>\n",
       "      <td>NaN</td>\n",
       "      <td>NaN</td>\n",
       "      <td>1737</td>\n",
       "      <td>0.848</td>\n",
       "      <td>1.010</td>\n",
       "      <td>NaN</td>\n",
       "    </tr>\n",
       "    <tr>\n",
       "      <th>...</th>\n",
       "      <td>...</td>\n",
       "      <td>...</td>\n",
       "      <td>...</td>\n",
       "      <td>...</td>\n",
       "      <td>...</td>\n",
       "      <td>...</td>\n",
       "      <td>...</td>\n",
       "      <td>...</td>\n",
       "      <td>...</td>\n",
       "      <td>...</td>\n",
       "      <td>...</td>\n",
       "      <td>...</td>\n",
       "    </tr>\n",
       "    <tr>\n",
       "      <th>431</th>\n",
       "      <td>OAS1_0285_MR2</td>\n",
       "      <td>M</td>\n",
       "      <td>R</td>\n",
       "      <td>20</td>\n",
       "      <td>NaN</td>\n",
       "      <td>NaN</td>\n",
       "      <td>NaN</td>\n",
       "      <td>NaN</td>\n",
       "      <td>1469</td>\n",
       "      <td>0.847</td>\n",
       "      <td>1.195</td>\n",
       "      <td>2.0</td>\n",
       "    </tr>\n",
       "    <tr>\n",
       "      <th>432</th>\n",
       "      <td>OAS1_0353_MR2</td>\n",
       "      <td>M</td>\n",
       "      <td>R</td>\n",
       "      <td>22</td>\n",
       "      <td>NaN</td>\n",
       "      <td>NaN</td>\n",
       "      <td>NaN</td>\n",
       "      <td>NaN</td>\n",
       "      <td>1684</td>\n",
       "      <td>0.790</td>\n",
       "      <td>1.042</td>\n",
       "      <td>40.0</td>\n",
       "    </tr>\n",
       "    <tr>\n",
       "      <th>433</th>\n",
       "      <td>OAS1_0368_MR2</td>\n",
       "      <td>M</td>\n",
       "      <td>R</td>\n",
       "      <td>22</td>\n",
       "      <td>NaN</td>\n",
       "      <td>NaN</td>\n",
       "      <td>NaN</td>\n",
       "      <td>NaN</td>\n",
       "      <td>1580</td>\n",
       "      <td>0.856</td>\n",
       "      <td>1.111</td>\n",
       "      <td>89.0</td>\n",
       "    </tr>\n",
       "    <tr>\n",
       "      <th>434</th>\n",
       "      <td>OAS1_0379_MR2</td>\n",
       "      <td>F</td>\n",
       "      <td>R</td>\n",
       "      <td>20</td>\n",
       "      <td>NaN</td>\n",
       "      <td>NaN</td>\n",
       "      <td>NaN</td>\n",
       "      <td>NaN</td>\n",
       "      <td>1262</td>\n",
       "      <td>0.861</td>\n",
       "      <td>1.390</td>\n",
       "      <td>2.0</td>\n",
       "    </tr>\n",
       "    <tr>\n",
       "      <th>435</th>\n",
       "      <td>OAS1_0395_MR2</td>\n",
       "      <td>F</td>\n",
       "      <td>R</td>\n",
       "      <td>26</td>\n",
       "      <td>NaN</td>\n",
       "      <td>NaN</td>\n",
       "      <td>NaN</td>\n",
       "      <td>NaN</td>\n",
       "      <td>1283</td>\n",
       "      <td>0.834</td>\n",
       "      <td>1.368</td>\n",
       "      <td>39.0</td>\n",
       "    </tr>\n",
       "  </tbody>\n",
       "</table>\n",
       "<p>436 rows × 12 columns</p>\n",
       "</div>"
      ],
      "text/plain": [
       "                ID Genero Lateralidad_Manual  Edad  Educacion  NSE  MMSE  CDR  \\\n",
       "0    OAS1_0001_MR1      F                  R    74        2.0  3.0  29.0  0.0   \n",
       "1    OAS1_0002_MR1      F                  R    55        4.0  1.0  29.0  0.0   \n",
       "2    OAS1_0003_MR1      F                  R    73        4.0  3.0  27.0  0.5   \n",
       "3    OAS1_0004_MR1      M                  R    28        NaN  NaN   NaN  NaN   \n",
       "4    OAS1_0005_MR1      M                  R    18        NaN  NaN   NaN  NaN   \n",
       "..             ...    ...                ...   ...        ...  ...   ...  ...   \n",
       "431  OAS1_0285_MR2      M                  R    20        NaN  NaN   NaN  NaN   \n",
       "432  OAS1_0353_MR2      M                  R    22        NaN  NaN   NaN  NaN   \n",
       "433  OAS1_0368_MR2      M                  R    22        NaN  NaN   NaN  NaN   \n",
       "434  OAS1_0379_MR2      F                  R    20        NaN  NaN   NaN  NaN   \n",
       "435  OAS1_0395_MR2      F                  R    26        NaN  NaN   NaN  NaN   \n",
       "\n",
       "     eTIV   nWBV    ASF  Delay  \n",
       "0    1344  0.743  1.306    NaN  \n",
       "1    1147  0.810  1.531    NaN  \n",
       "2    1454  0.708  1.207    NaN  \n",
       "3    1588  0.803  1.105    NaN  \n",
       "4    1737  0.848  1.010    NaN  \n",
       "..    ...    ...    ...    ...  \n",
       "431  1469  0.847  1.195    2.0  \n",
       "432  1684  0.790  1.042   40.0  \n",
       "433  1580  0.856  1.111   89.0  \n",
       "434  1262  0.861  1.390    2.0  \n",
       "435  1283  0.834  1.368   39.0  \n",
       "\n",
       "[436 rows x 12 columns]"
      ]
     },
     "execution_count": 2,
     "metadata": {},
     "output_type": "execute_result"
    }
   ],
   "source": [
    "# Importar los datos\n",
    "dementiaData = pd.read_csv(\"../input/oasis-crosssectional/oasis_cross-sectional.csv\", sep = \",\")\n",
    "\n",
    "# Mejorando los nombres de las columnas \n",
    "dementiaData.columns = [\"ID\", \"Genero\", \"Lateralidad_Manual\", \"Edad\", \"Educacion\",\"NSE\", \"MMSE\",\"CDR\", \"eTIV\",\"nWBV\", \"ASF\", \"Delay\"]\n",
    "dementiaData"
   ]
  },
  {
   "cell_type": "code",
   "execution_count": 3,
   "id": "c6924fb5",
   "metadata": {
    "execution": {
     "iopub.execute_input": "2021-08-28T00:40:32.784542Z",
     "iopub.status.busy": "2021-08-28T00:40:32.783884Z",
     "iopub.status.idle": "2021-08-28T00:40:32.787055Z",
     "shell.execute_reply": "2021-08-28T00:40:32.787581Z",
     "shell.execute_reply.started": "2021-08-28T00:39:23.355377Z"
    },
    "id": "HBx1WfL15xVz",
    "outputId": "76225df7-b600-4022-bcc9-f0192c0b5b63",
    "papermill": {
     "duration": 0.068546,
     "end_time": "2021-08-28T00:40:32.787754",
     "exception": false,
     "start_time": "2021-08-28T00:40:32.719208",
     "status": "completed"
    },
    "tags": []
   },
   "outputs": [
    {
     "data": {
      "text/plain": [
       "ID                      0\n",
       "Genero                  0\n",
       "Lateralidad_Manual      0\n",
       "Edad                    0\n",
       "Educacion             201\n",
       "NSE                   220\n",
       "MMSE                  201\n",
       "CDR                   201\n",
       "eTIV                    0\n",
       "nWBV                    0\n",
       "ASF                     0\n",
       "Delay                 416\n",
       "dtype: int64"
      ]
     },
     "execution_count": 3,
     "metadata": {},
     "output_type": "execute_result"
    }
   ],
   "source": [
    "dementiaData.isnull().sum()"
   ]
  },
  {
   "cell_type": "markdown",
   "id": "6239aa2a",
   "metadata": {
    "id": "cNGQid7U_mjp",
    "papermill": {
     "duration": 0.057325,
     "end_time": "2021-08-28T00:40:32.903233",
     "exception": false,
     "start_time": "2021-08-28T00:40:32.845908",
     "status": "completed"
    },
    "tags": []
   },
   "source": [
    "## **Preprocesamiento de los datos**"
   ]
  },
  {
   "cell_type": "markdown",
   "id": "21d3883c",
   "metadata": {
    "papermill": {
     "duration": 0.057244,
     "end_time": "2021-08-28T00:40:33.018020",
     "exception": false,
     "start_time": "2021-08-28T00:40:32.960776",
     "status": "completed"
    },
    "tags": []
   },
   "source": [
    "**Eliminacion de columnas innecesarias**"
   ]
  },
  {
   "cell_type": "code",
   "execution_count": 4,
   "id": "d33469e5",
   "metadata": {
    "execution": {
     "iopub.execute_input": "2021-08-28T00:40:33.137399Z",
     "iopub.status.busy": "2021-08-28T00:40:33.136720Z",
     "iopub.status.idle": "2021-08-28T00:40:33.146541Z",
     "shell.execute_reply": "2021-08-28T00:40:33.147110Z",
     "shell.execute_reply.started": "2021-08-28T00:39:23.369252Z"
    },
    "id": "xaC_dOiRXeJt",
    "outputId": "c484b86b-b8ac-48c7-8c8e-a6edfc7aa11d",
    "papermill": {
     "duration": 0.071211,
     "end_time": "2021-08-28T00:40:33.147295",
     "exception": false,
     "start_time": "2021-08-28T00:40:33.076084",
     "status": "completed"
    },
    "tags": []
   },
   "outputs": [
    {
     "data": {
      "text/plain": [
       "Index(['ID', 'Genero', 'Lateralidad_Manual', 'Edad', 'Educacion', 'NSE',\n",
       "       'MMSE', 'CDR', 'nWBV'],\n",
       "      dtype='object')"
      ]
     },
     "execution_count": 4,
     "metadata": {},
     "output_type": "execute_result"
    }
   ],
   "source": [
    "dementiaData = dementiaData.drop(['Delay', 'ASF', 'eTIV'], axis = 1)\n",
    "dementiaData.columns"
   ]
  },
  {
   "cell_type": "markdown",
   "id": "c4ed2344",
   "metadata": {
    "papermill": {
     "duration": 0.057308,
     "end_time": "2021-08-28T00:40:33.262707",
     "exception": false,
     "start_time": "2021-08-28T00:40:33.205399",
     "status": "completed"
    },
    "tags": []
   },
   "source": [
    "Cantidad de filas y columnas"
   ]
  },
  {
   "cell_type": "code",
   "execution_count": 5,
   "id": "26be579a",
   "metadata": {
    "execution": {
     "iopub.execute_input": "2021-08-28T00:40:33.383592Z",
     "iopub.status.busy": "2021-08-28T00:40:33.382631Z",
     "iopub.status.idle": "2021-08-28T00:40:33.388399Z",
     "shell.execute_reply": "2021-08-28T00:40:33.388947Z",
     "shell.execute_reply.started": "2021-08-28T00:39:23.384010Z"
    },
    "id": "GgJTyGXycZce",
    "outputId": "51536c5c-a226-4254-8f07-5a7a1cbd0829",
    "papermill": {
     "duration": 0.067696,
     "end_time": "2021-08-28T00:40:33.389113",
     "exception": false,
     "start_time": "2021-08-28T00:40:33.321417",
     "status": "completed"
    },
    "tags": []
   },
   "outputs": [
    {
     "data": {
      "text/plain": [
       "(436, 9)"
      ]
     },
     "execution_count": 5,
     "metadata": {},
     "output_type": "execute_result"
    }
   ],
   "source": [
    "dementiaData.shape"
   ]
  },
  {
   "cell_type": "markdown",
   "id": "c571f104",
   "metadata": {
    "id": "ME9vi9UXcONL",
    "papermill": {
     "duration": 0.057023,
     "end_time": "2021-08-28T00:40:33.503733",
     "exception": false,
     "start_time": "2021-08-28T00:40:33.446710",
     "status": "completed"
    },
    "tags": []
   },
   "source": [
    "Hay una discordancia entre la cantidad de sujetos evaluados y la cantidad de filas, probablemente porque algunos sujetos se tomaron mas de una sesión de resonancia. "
   ]
  },
  {
   "cell_type": "markdown",
   "id": "e4a9c28d",
   "metadata": {
    "id": "P-sMhBPLgDB3",
    "papermill": {
     "duration": 0.057659,
     "end_time": "2021-08-28T00:40:33.619389",
     "exception": false,
     "start_time": "2021-08-28T00:40:33.561730",
     "status": "completed"
    },
    "tags": []
   },
   "source": [
    "**Eliminación de duplicados**"
   ]
  },
  {
   "cell_type": "code",
   "execution_count": 6,
   "id": "38ee38b2",
   "metadata": {
    "execution": {
     "iopub.execute_input": "2021-08-28T00:40:33.739511Z",
     "iopub.status.busy": "2021-08-28T00:40:33.738542Z",
     "iopub.status.idle": "2021-08-28T00:40:33.745959Z",
     "shell.execute_reply": "2021-08-28T00:40:33.746498Z",
     "shell.execute_reply.started": "2021-08-28T00:39:23.397480Z"
    },
    "id": "66lktUgqerdD",
    "outputId": "6e892fce-63d5-4234-ffbf-d5546b9fb527",
    "papermill": {
     "duration": 0.069626,
     "end_time": "2021-08-28T00:40:33.746665",
     "exception": false,
     "start_time": "2021-08-28T00:40:33.677039",
     "status": "completed"
    },
    "tags": []
   },
   "outputs": [
    {
     "data": {
      "text/plain": [
       "0    OAS1_0001_MR1\n",
       "1    OAS1_0002_MR1\n",
       "2    OAS1_0003_MR1\n",
       "3    OAS1_0004_MR1\n",
       "4    OAS1_0005_MR1\n",
       "Name: ID, dtype: object"
      ]
     },
     "execution_count": 6,
     "metadata": {},
     "output_type": "execute_result"
    }
   ],
   "source": [
    "#Revisamos la estructura del ID en el dataset\n",
    "dementiaData[\"ID\"][0:5]"
   ]
  },
  {
   "cell_type": "markdown",
   "id": "53ec4d49",
   "metadata": {
    "id": "Ed8NMh_VgOPr",
    "papermill": {
     "duration": 0.057771,
     "end_time": "2021-08-28T00:40:33.862476",
     "exception": false,
     "start_time": "2021-08-28T00:40:33.804705",
     "status": "completed"
    },
    "tags": []
   },
   "source": [
    "El ID en la data representa sesiones de resonancia, esta conformado por el identificador del sujeto \"OAS1_xxxx\" (por ejemplo, OAS1_0012) más el numero de sesión de imágen del sujeto, obteniendo el siguiente formato OAS1_xxxx_MRy, donde y representa el número de la visita de imágenes para el sujeto (por ejemplo, OAS1_0012_MR1). Para el proposito del estudio tendremos como unidad de análisis al sujeto, por lo que es necesario tener la data agrupado por el ID del sujeto, sin duplicados, para ello solo se incluirá las sesiones MR1 por sujeto."
   ]
  },
  {
   "cell_type": "code",
   "execution_count": 7,
   "id": "97abb0fc",
   "metadata": {
    "execution": {
     "iopub.execute_input": "2021-08-28T00:40:33.982641Z",
     "iopub.status.busy": "2021-08-28T00:40:33.981652Z",
     "iopub.status.idle": "2021-08-28T00:40:34.188165Z",
     "shell.execute_reply": "2021-08-28T00:40:34.187574Z",
     "shell.execute_reply.started": "2021-08-28T00:39:23.411118Z"
    },
    "id": "TGqW4OUAbhTw",
    "papermill": {
     "duration": 0.267839,
     "end_time": "2021-08-28T00:40:34.188306",
     "exception": false,
     "start_time": "2021-08-28T00:40:33.920467",
     "status": "completed"
    },
    "tags": []
   },
   "outputs": [],
   "source": [
    "#Obteniendo los IDs de los sujetos en el dataset\n",
    "for i in range(0,len(dementiaData)):\n",
    "  dementiaData[\"ID\"][i] = dementiaData[\"ID\"][i][0:9]\n",
    "  #print(dementiaData[\"ID\"][i])"
   ]
  },
  {
   "cell_type": "code",
   "execution_count": 8,
   "id": "1e810554",
   "metadata": {
    "execution": {
     "iopub.execute_input": "2021-08-28T00:40:34.307689Z",
     "iopub.status.busy": "2021-08-28T00:40:34.306724Z",
     "iopub.status.idle": "2021-08-28T00:40:34.339426Z",
     "shell.execute_reply": "2021-08-28T00:40:34.339927Z",
     "shell.execute_reply.started": "2021-08-28T00:39:23.683271Z"
    },
    "id": "JxclvK_hZn0B",
    "papermill": {
     "duration": 0.093872,
     "end_time": "2021-08-28T00:40:34.340093",
     "exception": false,
     "start_time": "2021-08-28T00:40:34.246221",
     "status": "completed"
    },
    "tags": []
   },
   "outputs": [
    {
     "data": {
      "text/html": [
       "<div>\n",
       "<style scoped>\n",
       "    .dataframe tbody tr th:only-of-type {\n",
       "        vertical-align: middle;\n",
       "    }\n",
       "\n",
       "    .dataframe tbody tr th {\n",
       "        vertical-align: top;\n",
       "    }\n",
       "\n",
       "    .dataframe thead th {\n",
       "        text-align: right;\n",
       "    }\n",
       "</style>\n",
       "<table border=\"1\" class=\"dataframe\">\n",
       "  <thead>\n",
       "    <tr style=\"text-align: right;\">\n",
       "      <th></th>\n",
       "      <th>ID</th>\n",
       "      <th>Genero</th>\n",
       "      <th>Lateralidad_Manual</th>\n",
       "      <th>Edad</th>\n",
       "      <th>Educacion</th>\n",
       "      <th>NSE</th>\n",
       "      <th>MMSE</th>\n",
       "      <th>CDR</th>\n",
       "      <th>nWBV</th>\n",
       "    </tr>\n",
       "  </thead>\n",
       "  <tbody>\n",
       "    <tr>\n",
       "      <th>56</th>\n",
       "      <td>OAS1_0061</td>\n",
       "      <td>F</td>\n",
       "      <td>R</td>\n",
       "      <td>20</td>\n",
       "      <td>NaN</td>\n",
       "      <td>NaN</td>\n",
       "      <td>NaN</td>\n",
       "      <td>NaN</td>\n",
       "      <td>0.840</td>\n",
       "    </tr>\n",
       "    <tr>\n",
       "      <th>75</th>\n",
       "      <td>OAS1_0080</td>\n",
       "      <td>F</td>\n",
       "      <td>R</td>\n",
       "      <td>25</td>\n",
       "      <td>NaN</td>\n",
       "      <td>NaN</td>\n",
       "      <td>NaN</td>\n",
       "      <td>NaN</td>\n",
       "      <td>0.857</td>\n",
       "    </tr>\n",
       "    <tr>\n",
       "      <th>86</th>\n",
       "      <td>OAS1_0092</td>\n",
       "      <td>M</td>\n",
       "      <td>R</td>\n",
       "      <td>22</td>\n",
       "      <td>NaN</td>\n",
       "      <td>NaN</td>\n",
       "      <td>NaN</td>\n",
       "      <td>NaN</td>\n",
       "      <td>0.834</td>\n",
       "    </tr>\n",
       "    <tr>\n",
       "      <th>93</th>\n",
       "      <td>OAS1_0101</td>\n",
       "      <td>M</td>\n",
       "      <td>R</td>\n",
       "      <td>29</td>\n",
       "      <td>NaN</td>\n",
       "      <td>NaN</td>\n",
       "      <td>NaN</td>\n",
       "      <td>NaN</td>\n",
       "      <td>0.840</td>\n",
       "    </tr>\n",
       "    <tr>\n",
       "      <th>103</th>\n",
       "      <td>OAS1_0111</td>\n",
       "      <td>M</td>\n",
       "      <td>R</td>\n",
       "      <td>23</td>\n",
       "      <td>NaN</td>\n",
       "      <td>NaN</td>\n",
       "      <td>NaN</td>\n",
       "      <td>NaN</td>\n",
       "      <td>0.855</td>\n",
       "    </tr>\n",
       "    <tr>\n",
       "      <th>109</th>\n",
       "      <td>OAS1_0117</td>\n",
       "      <td>M</td>\n",
       "      <td>R</td>\n",
       "      <td>25</td>\n",
       "      <td>NaN</td>\n",
       "      <td>NaN</td>\n",
       "      <td>NaN</td>\n",
       "      <td>NaN</td>\n",
       "      <td>0.783</td>\n",
       "    </tr>\n",
       "    <tr>\n",
       "      <th>135</th>\n",
       "      <td>OAS1_0145</td>\n",
       "      <td>M</td>\n",
       "      <td>R</td>\n",
       "      <td>34</td>\n",
       "      <td>NaN</td>\n",
       "      <td>NaN</td>\n",
       "      <td>NaN</td>\n",
       "      <td>NaN</td>\n",
       "      <td>0.831</td>\n",
       "    </tr>\n",
       "    <tr>\n",
       "      <th>139</th>\n",
       "      <td>OAS1_0150</td>\n",
       "      <td>F</td>\n",
       "      <td>R</td>\n",
       "      <td>20</td>\n",
       "      <td>NaN</td>\n",
       "      <td>NaN</td>\n",
       "      <td>NaN</td>\n",
       "      <td>NaN</td>\n",
       "      <td>0.875</td>\n",
       "    </tr>\n",
       "    <tr>\n",
       "      <th>144</th>\n",
       "      <td>OAS1_0156</td>\n",
       "      <td>F</td>\n",
       "      <td>R</td>\n",
       "      <td>20</td>\n",
       "      <td>NaN</td>\n",
       "      <td>NaN</td>\n",
       "      <td>NaN</td>\n",
       "      <td>NaN</td>\n",
       "      <td>0.834</td>\n",
       "    </tr>\n",
       "    <tr>\n",
       "      <th>175</th>\n",
       "      <td>OAS1_0191</td>\n",
       "      <td>F</td>\n",
       "      <td>R</td>\n",
       "      <td>21</td>\n",
       "      <td>NaN</td>\n",
       "      <td>NaN</td>\n",
       "      <td>NaN</td>\n",
       "      <td>NaN</td>\n",
       "      <td>0.835</td>\n",
       "    </tr>\n",
       "    <tr>\n",
       "      <th>184</th>\n",
       "      <td>OAS1_0202</td>\n",
       "      <td>F</td>\n",
       "      <td>R</td>\n",
       "      <td>23</td>\n",
       "      <td>NaN</td>\n",
       "      <td>NaN</td>\n",
       "      <td>NaN</td>\n",
       "      <td>NaN</td>\n",
       "      <td>0.865</td>\n",
       "    </tr>\n",
       "    <tr>\n",
       "      <th>209</th>\n",
       "      <td>OAS1_0230</td>\n",
       "      <td>F</td>\n",
       "      <td>R</td>\n",
       "      <td>19</td>\n",
       "      <td>NaN</td>\n",
       "      <td>NaN</td>\n",
       "      <td>NaN</td>\n",
       "      <td>NaN</td>\n",
       "      <td>0.846</td>\n",
       "    </tr>\n",
       "    <tr>\n",
       "      <th>215</th>\n",
       "      <td>OAS1_0236</td>\n",
       "      <td>F</td>\n",
       "      <td>R</td>\n",
       "      <td>20</td>\n",
       "      <td>NaN</td>\n",
       "      <td>NaN</td>\n",
       "      <td>NaN</td>\n",
       "      <td>NaN</td>\n",
       "      <td>0.876</td>\n",
       "    </tr>\n",
       "    <tr>\n",
       "      <th>218</th>\n",
       "      <td>OAS1_0239</td>\n",
       "      <td>F</td>\n",
       "      <td>R</td>\n",
       "      <td>29</td>\n",
       "      <td>NaN</td>\n",
       "      <td>NaN</td>\n",
       "      <td>NaN</td>\n",
       "      <td>NaN</td>\n",
       "      <td>0.823</td>\n",
       "    </tr>\n",
       "    <tr>\n",
       "      <th>225</th>\n",
       "      <td>OAS1_0249</td>\n",
       "      <td>F</td>\n",
       "      <td>R</td>\n",
       "      <td>28</td>\n",
       "      <td>NaN</td>\n",
       "      <td>NaN</td>\n",
       "      <td>NaN</td>\n",
       "      <td>NaN</td>\n",
       "      <td>0.871</td>\n",
       "    </tr>\n",
       "    <tr>\n",
       "      <th>257</th>\n",
       "      <td>OAS1_0285</td>\n",
       "      <td>M</td>\n",
       "      <td>R</td>\n",
       "      <td>20</td>\n",
       "      <td>NaN</td>\n",
       "      <td>NaN</td>\n",
       "      <td>NaN</td>\n",
       "      <td>NaN</td>\n",
       "      <td>0.843</td>\n",
       "    </tr>\n",
       "    <tr>\n",
       "      <th>319</th>\n",
       "      <td>OAS1_0353</td>\n",
       "      <td>M</td>\n",
       "      <td>R</td>\n",
       "      <td>22</td>\n",
       "      <td>NaN</td>\n",
       "      <td>NaN</td>\n",
       "      <td>NaN</td>\n",
       "      <td>NaN</td>\n",
       "      <td>0.800</td>\n",
       "    </tr>\n",
       "    <tr>\n",
       "      <th>332</th>\n",
       "      <td>OAS1_0368</td>\n",
       "      <td>M</td>\n",
       "      <td>R</td>\n",
       "      <td>22</td>\n",
       "      <td>NaN</td>\n",
       "      <td>NaN</td>\n",
       "      <td>NaN</td>\n",
       "      <td>NaN</td>\n",
       "      <td>0.856</td>\n",
       "    </tr>\n",
       "    <tr>\n",
       "      <th>343</th>\n",
       "      <td>OAS1_0379</td>\n",
       "      <td>F</td>\n",
       "      <td>R</td>\n",
       "      <td>20</td>\n",
       "      <td>NaN</td>\n",
       "      <td>NaN</td>\n",
       "      <td>NaN</td>\n",
       "      <td>NaN</td>\n",
       "      <td>0.866</td>\n",
       "    </tr>\n",
       "    <tr>\n",
       "      <th>357</th>\n",
       "      <td>OAS1_0395</td>\n",
       "      <td>F</td>\n",
       "      <td>R</td>\n",
       "      <td>26</td>\n",
       "      <td>NaN</td>\n",
       "      <td>NaN</td>\n",
       "      <td>NaN</td>\n",
       "      <td>NaN</td>\n",
       "      <td>0.834</td>\n",
       "    </tr>\n",
       "    <tr>\n",
       "      <th>416</th>\n",
       "      <td>OAS1_0061</td>\n",
       "      <td>F</td>\n",
       "      <td>R</td>\n",
       "      <td>20</td>\n",
       "      <td>NaN</td>\n",
       "      <td>NaN</td>\n",
       "      <td>NaN</td>\n",
       "      <td>NaN</td>\n",
       "      <td>0.845</td>\n",
       "    </tr>\n",
       "    <tr>\n",
       "      <th>417</th>\n",
       "      <td>OAS1_0080</td>\n",
       "      <td>F</td>\n",
       "      <td>R</td>\n",
       "      <td>25</td>\n",
       "      <td>NaN</td>\n",
       "      <td>NaN</td>\n",
       "      <td>NaN</td>\n",
       "      <td>NaN</td>\n",
       "      <td>0.841</td>\n",
       "    </tr>\n",
       "    <tr>\n",
       "      <th>418</th>\n",
       "      <td>OAS1_0092</td>\n",
       "      <td>M</td>\n",
       "      <td>R</td>\n",
       "      <td>22</td>\n",
       "      <td>NaN</td>\n",
       "      <td>NaN</td>\n",
       "      <td>NaN</td>\n",
       "      <td>NaN</td>\n",
       "      <td>0.835</td>\n",
       "    </tr>\n",
       "    <tr>\n",
       "      <th>419</th>\n",
       "      <td>OAS1_0101</td>\n",
       "      <td>M</td>\n",
       "      <td>R</td>\n",
       "      <td>29</td>\n",
       "      <td>NaN</td>\n",
       "      <td>NaN</td>\n",
       "      <td>NaN</td>\n",
       "      <td>NaN</td>\n",
       "      <td>0.835</td>\n",
       "    </tr>\n",
       "    <tr>\n",
       "      <th>420</th>\n",
       "      <td>OAS1_0111</td>\n",
       "      <td>M</td>\n",
       "      <td>R</td>\n",
       "      <td>23</td>\n",
       "      <td>NaN</td>\n",
       "      <td>NaN</td>\n",
       "      <td>NaN</td>\n",
       "      <td>NaN</td>\n",
       "      <td>0.861</td>\n",
       "    </tr>\n",
       "    <tr>\n",
       "      <th>421</th>\n",
       "      <td>OAS1_0117</td>\n",
       "      <td>M</td>\n",
       "      <td>R</td>\n",
       "      <td>25</td>\n",
       "      <td>NaN</td>\n",
       "      <td>NaN</td>\n",
       "      <td>NaN</td>\n",
       "      <td>NaN</td>\n",
       "      <td>0.782</td>\n",
       "    </tr>\n",
       "    <tr>\n",
       "      <th>422</th>\n",
       "      <td>OAS1_0145</td>\n",
       "      <td>M</td>\n",
       "      <td>R</td>\n",
       "      <td>34</td>\n",
       "      <td>NaN</td>\n",
       "      <td>NaN</td>\n",
       "      <td>NaN</td>\n",
       "      <td>NaN</td>\n",
       "      <td>0.832</td>\n",
       "    </tr>\n",
       "    <tr>\n",
       "      <th>423</th>\n",
       "      <td>OAS1_0150</td>\n",
       "      <td>F</td>\n",
       "      <td>R</td>\n",
       "      <td>20</td>\n",
       "      <td>NaN</td>\n",
       "      <td>NaN</td>\n",
       "      <td>NaN</td>\n",
       "      <td>NaN</td>\n",
       "      <td>0.876</td>\n",
       "    </tr>\n",
       "    <tr>\n",
       "      <th>424</th>\n",
       "      <td>OAS1_0156</td>\n",
       "      <td>F</td>\n",
       "      <td>R</td>\n",
       "      <td>20</td>\n",
       "      <td>NaN</td>\n",
       "      <td>NaN</td>\n",
       "      <td>NaN</td>\n",
       "      <td>NaN</td>\n",
       "      <td>0.832</td>\n",
       "    </tr>\n",
       "    <tr>\n",
       "      <th>425</th>\n",
       "      <td>OAS1_0191</td>\n",
       "      <td>F</td>\n",
       "      <td>R</td>\n",
       "      <td>21</td>\n",
       "      <td>NaN</td>\n",
       "      <td>NaN</td>\n",
       "      <td>NaN</td>\n",
       "      <td>NaN</td>\n",
       "      <td>0.837</td>\n",
       "    </tr>\n",
       "    <tr>\n",
       "      <th>426</th>\n",
       "      <td>OAS1_0202</td>\n",
       "      <td>F</td>\n",
       "      <td>R</td>\n",
       "      <td>23</td>\n",
       "      <td>NaN</td>\n",
       "      <td>NaN</td>\n",
       "      <td>NaN</td>\n",
       "      <td>NaN</td>\n",
       "      <td>0.861</td>\n",
       "    </tr>\n",
       "    <tr>\n",
       "      <th>427</th>\n",
       "      <td>OAS1_0230</td>\n",
       "      <td>F</td>\n",
       "      <td>R</td>\n",
       "      <td>19</td>\n",
       "      <td>NaN</td>\n",
       "      <td>NaN</td>\n",
       "      <td>NaN</td>\n",
       "      <td>NaN</td>\n",
       "      <td>0.849</td>\n",
       "    </tr>\n",
       "    <tr>\n",
       "      <th>428</th>\n",
       "      <td>OAS1_0236</td>\n",
       "      <td>F</td>\n",
       "      <td>R</td>\n",
       "      <td>20</td>\n",
       "      <td>NaN</td>\n",
       "      <td>NaN</td>\n",
       "      <td>NaN</td>\n",
       "      <td>NaN</td>\n",
       "      <td>0.872</td>\n",
       "    </tr>\n",
       "    <tr>\n",
       "      <th>429</th>\n",
       "      <td>OAS1_0239</td>\n",
       "      <td>F</td>\n",
       "      <td>R</td>\n",
       "      <td>29</td>\n",
       "      <td>NaN</td>\n",
       "      <td>NaN</td>\n",
       "      <td>NaN</td>\n",
       "      <td>NaN</td>\n",
       "      <td>0.822</td>\n",
       "    </tr>\n",
       "    <tr>\n",
       "      <th>430</th>\n",
       "      <td>OAS1_0249</td>\n",
       "      <td>F</td>\n",
       "      <td>R</td>\n",
       "      <td>28</td>\n",
       "      <td>NaN</td>\n",
       "      <td>NaN</td>\n",
       "      <td>NaN</td>\n",
       "      <td>NaN</td>\n",
       "      <td>0.865</td>\n",
       "    </tr>\n",
       "    <tr>\n",
       "      <th>431</th>\n",
       "      <td>OAS1_0285</td>\n",
       "      <td>M</td>\n",
       "      <td>R</td>\n",
       "      <td>20</td>\n",
       "      <td>NaN</td>\n",
       "      <td>NaN</td>\n",
       "      <td>NaN</td>\n",
       "      <td>NaN</td>\n",
       "      <td>0.847</td>\n",
       "    </tr>\n",
       "    <tr>\n",
       "      <th>432</th>\n",
       "      <td>OAS1_0353</td>\n",
       "      <td>M</td>\n",
       "      <td>R</td>\n",
       "      <td>22</td>\n",
       "      <td>NaN</td>\n",
       "      <td>NaN</td>\n",
       "      <td>NaN</td>\n",
       "      <td>NaN</td>\n",
       "      <td>0.790</td>\n",
       "    </tr>\n",
       "    <tr>\n",
       "      <th>433</th>\n",
       "      <td>OAS1_0368</td>\n",
       "      <td>M</td>\n",
       "      <td>R</td>\n",
       "      <td>22</td>\n",
       "      <td>NaN</td>\n",
       "      <td>NaN</td>\n",
       "      <td>NaN</td>\n",
       "      <td>NaN</td>\n",
       "      <td>0.856</td>\n",
       "    </tr>\n",
       "    <tr>\n",
       "      <th>434</th>\n",
       "      <td>OAS1_0379</td>\n",
       "      <td>F</td>\n",
       "      <td>R</td>\n",
       "      <td>20</td>\n",
       "      <td>NaN</td>\n",
       "      <td>NaN</td>\n",
       "      <td>NaN</td>\n",
       "      <td>NaN</td>\n",
       "      <td>0.861</td>\n",
       "    </tr>\n",
       "    <tr>\n",
       "      <th>435</th>\n",
       "      <td>OAS1_0395</td>\n",
       "      <td>F</td>\n",
       "      <td>R</td>\n",
       "      <td>26</td>\n",
       "      <td>NaN</td>\n",
       "      <td>NaN</td>\n",
       "      <td>NaN</td>\n",
       "      <td>NaN</td>\n",
       "      <td>0.834</td>\n",
       "    </tr>\n",
       "  </tbody>\n",
       "</table>\n",
       "</div>"
      ],
      "text/plain": [
       "            ID Genero Lateralidad_Manual  Edad  Educacion  NSE  MMSE  CDR  \\\n",
       "56   OAS1_0061      F                  R    20        NaN  NaN   NaN  NaN   \n",
       "75   OAS1_0080      F                  R    25        NaN  NaN   NaN  NaN   \n",
       "86   OAS1_0092      M                  R    22        NaN  NaN   NaN  NaN   \n",
       "93   OAS1_0101      M                  R    29        NaN  NaN   NaN  NaN   \n",
       "103  OAS1_0111      M                  R    23        NaN  NaN   NaN  NaN   \n",
       "109  OAS1_0117      M                  R    25        NaN  NaN   NaN  NaN   \n",
       "135  OAS1_0145      M                  R    34        NaN  NaN   NaN  NaN   \n",
       "139  OAS1_0150      F                  R    20        NaN  NaN   NaN  NaN   \n",
       "144  OAS1_0156      F                  R    20        NaN  NaN   NaN  NaN   \n",
       "175  OAS1_0191      F                  R    21        NaN  NaN   NaN  NaN   \n",
       "184  OAS1_0202      F                  R    23        NaN  NaN   NaN  NaN   \n",
       "209  OAS1_0230      F                  R    19        NaN  NaN   NaN  NaN   \n",
       "215  OAS1_0236      F                  R    20        NaN  NaN   NaN  NaN   \n",
       "218  OAS1_0239      F                  R    29        NaN  NaN   NaN  NaN   \n",
       "225  OAS1_0249      F                  R    28        NaN  NaN   NaN  NaN   \n",
       "257  OAS1_0285      M                  R    20        NaN  NaN   NaN  NaN   \n",
       "319  OAS1_0353      M                  R    22        NaN  NaN   NaN  NaN   \n",
       "332  OAS1_0368      M                  R    22        NaN  NaN   NaN  NaN   \n",
       "343  OAS1_0379      F                  R    20        NaN  NaN   NaN  NaN   \n",
       "357  OAS1_0395      F                  R    26        NaN  NaN   NaN  NaN   \n",
       "416  OAS1_0061      F                  R    20        NaN  NaN   NaN  NaN   \n",
       "417  OAS1_0080      F                  R    25        NaN  NaN   NaN  NaN   \n",
       "418  OAS1_0092      M                  R    22        NaN  NaN   NaN  NaN   \n",
       "419  OAS1_0101      M                  R    29        NaN  NaN   NaN  NaN   \n",
       "420  OAS1_0111      M                  R    23        NaN  NaN   NaN  NaN   \n",
       "421  OAS1_0117      M                  R    25        NaN  NaN   NaN  NaN   \n",
       "422  OAS1_0145      M                  R    34        NaN  NaN   NaN  NaN   \n",
       "423  OAS1_0150      F                  R    20        NaN  NaN   NaN  NaN   \n",
       "424  OAS1_0156      F                  R    20        NaN  NaN   NaN  NaN   \n",
       "425  OAS1_0191      F                  R    21        NaN  NaN   NaN  NaN   \n",
       "426  OAS1_0202      F                  R    23        NaN  NaN   NaN  NaN   \n",
       "427  OAS1_0230      F                  R    19        NaN  NaN   NaN  NaN   \n",
       "428  OAS1_0236      F                  R    20        NaN  NaN   NaN  NaN   \n",
       "429  OAS1_0239      F                  R    29        NaN  NaN   NaN  NaN   \n",
       "430  OAS1_0249      F                  R    28        NaN  NaN   NaN  NaN   \n",
       "431  OAS1_0285      M                  R    20        NaN  NaN   NaN  NaN   \n",
       "432  OAS1_0353      M                  R    22        NaN  NaN   NaN  NaN   \n",
       "433  OAS1_0368      M                  R    22        NaN  NaN   NaN  NaN   \n",
       "434  OAS1_0379      F                  R    20        NaN  NaN   NaN  NaN   \n",
       "435  OAS1_0395      F                  R    26        NaN  NaN   NaN  NaN   \n",
       "\n",
       "      nWBV  \n",
       "56   0.840  \n",
       "75   0.857  \n",
       "86   0.834  \n",
       "93   0.840  \n",
       "103  0.855  \n",
       "109  0.783  \n",
       "135  0.831  \n",
       "139  0.875  \n",
       "144  0.834  \n",
       "175  0.835  \n",
       "184  0.865  \n",
       "209  0.846  \n",
       "215  0.876  \n",
       "218  0.823  \n",
       "225  0.871  \n",
       "257  0.843  \n",
       "319  0.800  \n",
       "332  0.856  \n",
       "343  0.866  \n",
       "357  0.834  \n",
       "416  0.845  \n",
       "417  0.841  \n",
       "418  0.835  \n",
       "419  0.835  \n",
       "420  0.861  \n",
       "421  0.782  \n",
       "422  0.832  \n",
       "423  0.876  \n",
       "424  0.832  \n",
       "425  0.837  \n",
       "426  0.861  \n",
       "427  0.849  \n",
       "428  0.872  \n",
       "429  0.822  \n",
       "430  0.865  \n",
       "431  0.847  \n",
       "432  0.790  \n",
       "433  0.856  \n",
       "434  0.861  \n",
       "435  0.834  "
      ]
     },
     "execution_count": 8,
     "metadata": {},
     "output_type": "execute_result"
    }
   ],
   "source": [
    "#Observando cuales son los duplicados \n",
    "IDS = dementiaData[\"ID\"]\n",
    "duplicated_ID = dementiaData[IDS.isin(IDS[IDS.duplicated()])]\n",
    "duplicated_ID"
   ]
  },
  {
   "cell_type": "markdown",
   "id": "26e471f1",
   "metadata": {
    "id": "MlgQxCx5iiuD",
    "papermill": {
     "duration": 0.05827,
     "end_time": "2021-08-28T00:40:34.457859",
     "exception": false,
     "start_time": "2021-08-28T00:40:34.399589",
     "status": "completed"
    },
    "tags": []
   },
   "source": [
    "Se encontró que las últimas 20 filas son de sujetos anteriormente ya situados en el dataset pero con su sesión MR2, estas se eliminarán. Quedándonos únicamente con los 416 sujetos en sus sesiones MR1. Ahora el ID será del sujeto con un solo MRI."
   ]
  },
  {
   "cell_type": "code",
   "execution_count": 9,
   "id": "f1909cc4",
   "metadata": {
    "execution": {
     "iopub.execute_input": "2021-08-28T00:40:34.579354Z",
     "iopub.status.busy": "2021-08-28T00:40:34.578370Z",
     "iopub.status.idle": "2021-08-28T00:40:34.586798Z",
     "shell.execute_reply": "2021-08-28T00:40:34.587267Z",
     "shell.execute_reply.started": "2021-08-28T00:39:23.724978Z"
    },
    "id": "-wfTkBz7lt7e",
    "outputId": "cde2cf1c-a30b-4e42-8605-60df89791690",
    "papermill": {
     "duration": 0.070788,
     "end_time": "2021-08-28T00:40:34.587447",
     "exception": false,
     "start_time": "2021-08-28T00:40:34.516659",
     "status": "completed"
    },
    "tags": []
   },
   "outputs": [
    {
     "data": {
      "text/plain": [
       "0      OAS1_0001\n",
       "1      OAS1_0002\n",
       "2      OAS1_0003\n",
       "3      OAS1_0004\n",
       "4      OAS1_0005\n",
       "         ...    \n",
       "411    OAS1_0453\n",
       "412    OAS1_0454\n",
       "413    OAS1_0455\n",
       "414    OAS1_0456\n",
       "415    OAS1_0457\n",
       "Name: ID, Length: 416, dtype: object"
      ]
     },
     "execution_count": 9,
     "metadata": {},
     "output_type": "execute_result"
    }
   ],
   "source": [
    "#Eliminamos los 20 últimos \n",
    "dementiaData = dementiaData.drop(dementiaData.index[416:])\n",
    "dementiaData[\"ID\"]"
   ]
  },
  {
   "cell_type": "markdown",
   "id": "d02ae9ad",
   "metadata": {
    "papermill": {
     "duration": 0.058926,
     "end_time": "2021-08-28T00:40:34.705333",
     "exception": false,
     "start_time": "2021-08-28T00:40:34.646407",
     "status": "completed"
    },
    "tags": []
   },
   "source": [
    "**Revisando las variables del dataset y verificando si hay incoherencias en los valores**"
   ]
  },
  {
   "cell_type": "code",
   "execution_count": 10,
   "id": "cb844249",
   "metadata": {
    "execution": {
     "iopub.execute_input": "2021-08-28T00:40:34.828739Z",
     "iopub.status.busy": "2021-08-28T00:40:34.827768Z",
     "iopub.status.idle": "2021-08-28T00:40:34.847630Z",
     "shell.execute_reply": "2021-08-28T00:40:34.846922Z",
     "shell.execute_reply.started": "2021-08-28T00:39:23.742869Z"
    },
    "id": "G5pTeZfCbm4r",
    "outputId": "b93472a0-a70e-4fa9-80a2-df8888e96d0f",
    "papermill": {
     "duration": 0.082491,
     "end_time": "2021-08-28T00:40:34.847788",
     "exception": false,
     "start_time": "2021-08-28T00:40:34.765297",
     "status": "completed"
    },
    "tags": []
   },
   "outputs": [
    {
     "name": "stdout",
     "output_type": "stream",
     "text": [
      "<class 'pandas.core.frame.DataFrame'>\n",
      "Int64Index: 416 entries, 0 to 415\n",
      "Data columns (total 9 columns):\n",
      " #   Column              Non-Null Count  Dtype  \n",
      "---  ------              --------------  -----  \n",
      " 0   ID                  416 non-null    object \n",
      " 1   Genero              416 non-null    object \n",
      " 2   Lateralidad_Manual  416 non-null    object \n",
      " 3   Edad                416 non-null    int64  \n",
      " 4   Educacion           235 non-null    float64\n",
      " 5   NSE                 216 non-null    float64\n",
      " 6   MMSE                235 non-null    float64\n",
      " 7   CDR                 235 non-null    float64\n",
      " 8   nWBV                416 non-null    float64\n",
      "dtypes: float64(5), int64(1), object(3)\n",
      "memory usage: 32.5+ KB\n"
     ]
    }
   ],
   "source": [
    "#Explorando los tipos de variables en el dataset\n",
    "dementiaData.info()"
   ]
  },
  {
   "cell_type": "code",
   "execution_count": 11,
   "id": "30db8314",
   "metadata": {
    "execution": {
     "iopub.execute_input": "2021-08-28T00:40:34.998734Z",
     "iopub.status.busy": "2021-08-28T00:40:34.998089Z",
     "iopub.status.idle": "2021-08-28T00:40:35.005959Z",
     "shell.execute_reply": "2021-08-28T00:40:35.006534Z",
     "shell.execute_reply.started": "2021-08-28T00:39:23.764675Z"
    },
    "id": "66cTNZYQlg-I",
    "outputId": "4ce8ae6b-e7c5-42ad-8d28-61acb28de5bf",
    "papermill": {
     "duration": 0.088701,
     "end_time": "2021-08-28T00:40:35.006711",
     "exception": false,
     "start_time": "2021-08-28T00:40:34.918010",
     "status": "completed"
    },
    "tags": []
   },
   "outputs": [
    {
     "name": "stdout",
     "output_type": "stream",
     "text": [
      "['F' 'M']\n",
      "['R']\n"
     ]
    }
   ],
   "source": [
    "#Revisando los valores en las variables categóricas (object)\n",
    "for columna in dementiaData:\n",
    "  if columna == \"Genero\" or columna ==\"Lateralidad_Manual\":\n",
    "    print(dementiaData[columna].unique())"
   ]
  },
  {
   "cell_type": "markdown",
   "id": "d8987597",
   "metadata": {
    "id": "aKcNtR_9jWBg",
    "papermill": {
     "duration": 0.06722,
     "end_time": "2021-08-28T00:40:35.136068",
     "exception": false,
     "start_time": "2021-08-28T00:40:35.068848",
     "status": "completed"
    },
    "tags": []
   },
   "source": [
    "Se observa, en las variables categóricas, que la columna Genero tiene etiquetas \"F\" de femenino y \"M\" de masculino. Y en el caso de Lateralidad solo esta el valor \"R\" del ingles Right, lo que indica que todos los sujetos son diestros."
   ]
  },
  {
   "cell_type": "code",
   "execution_count": 12,
   "id": "582dcd1b",
   "metadata": {
    "execution": {
     "iopub.execute_input": "2021-08-28T00:40:35.274617Z",
     "iopub.status.busy": "2021-08-28T00:40:35.270683Z",
     "iopub.status.idle": "2021-08-28T00:40:35.307092Z",
     "shell.execute_reply": "2021-08-28T00:40:35.306511Z",
     "shell.execute_reply.started": "2021-08-28T00:39:23.779447Z"
    },
    "id": "uDBfBjXTlzEY",
    "outputId": "144bf0ac-ce9d-4414-ee7e-3fbe931bf16f",
    "papermill": {
     "duration": 0.105282,
     "end_time": "2021-08-28T00:40:35.307237",
     "exception": false,
     "start_time": "2021-08-28T00:40:35.201955",
     "status": "completed"
    },
    "tags": []
   },
   "outputs": [
    {
     "data": {
      "text/html": [
       "<div>\n",
       "<style scoped>\n",
       "    .dataframe tbody tr th:only-of-type {\n",
       "        vertical-align: middle;\n",
       "    }\n",
       "\n",
       "    .dataframe tbody tr th {\n",
       "        vertical-align: top;\n",
       "    }\n",
       "\n",
       "    .dataframe thead th {\n",
       "        text-align: right;\n",
       "    }\n",
       "</style>\n",
       "<table border=\"1\" class=\"dataframe\">\n",
       "  <thead>\n",
       "    <tr style=\"text-align: right;\">\n",
       "      <th></th>\n",
       "      <th>Edad</th>\n",
       "      <th>Educacion</th>\n",
       "      <th>NSE</th>\n",
       "      <th>MMSE</th>\n",
       "      <th>CDR</th>\n",
       "      <th>nWBV</th>\n",
       "    </tr>\n",
       "  </thead>\n",
       "  <tbody>\n",
       "    <tr>\n",
       "      <th>count</th>\n",
       "      <td>416.000000</td>\n",
       "      <td>235.000000</td>\n",
       "      <td>216.000000</td>\n",
       "      <td>235.00000</td>\n",
       "      <td>235.000000</td>\n",
       "      <td>416.000000</td>\n",
       "    </tr>\n",
       "    <tr>\n",
       "      <th>mean</th>\n",
       "      <td>52.701923</td>\n",
       "      <td>3.178723</td>\n",
       "      <td>2.490741</td>\n",
       "      <td>27.06383</td>\n",
       "      <td>0.285106</td>\n",
       "      <td>0.789267</td>\n",
       "    </tr>\n",
       "    <tr>\n",
       "      <th>std</th>\n",
       "      <td>25.082180</td>\n",
       "      <td>1.311510</td>\n",
       "      <td>1.120593</td>\n",
       "      <td>3.69687</td>\n",
       "      <td>0.383405</td>\n",
       "      <td>0.060107</td>\n",
       "    </tr>\n",
       "    <tr>\n",
       "      <th>min</th>\n",
       "      <td>18.000000</td>\n",
       "      <td>1.000000</td>\n",
       "      <td>1.000000</td>\n",
       "      <td>14.00000</td>\n",
       "      <td>0.000000</td>\n",
       "      <td>0.644000</td>\n",
       "    </tr>\n",
       "    <tr>\n",
       "      <th>25%</th>\n",
       "      <td>24.000000</td>\n",
       "      <td>2.000000</td>\n",
       "      <td>2.000000</td>\n",
       "      <td>26.00000</td>\n",
       "      <td>0.000000</td>\n",
       "      <td>0.740000</td>\n",
       "    </tr>\n",
       "    <tr>\n",
       "      <th>50%</th>\n",
       "      <td>56.000000</td>\n",
       "      <td>3.000000</td>\n",
       "      <td>2.000000</td>\n",
       "      <td>29.00000</td>\n",
       "      <td>0.000000</td>\n",
       "      <td>0.804500</td>\n",
       "    </tr>\n",
       "    <tr>\n",
       "      <th>75%</th>\n",
       "      <td>75.000000</td>\n",
       "      <td>4.000000</td>\n",
       "      <td>3.000000</td>\n",
       "      <td>30.00000</td>\n",
       "      <td>0.500000</td>\n",
       "      <td>0.841000</td>\n",
       "    </tr>\n",
       "    <tr>\n",
       "      <th>max</th>\n",
       "      <td>96.000000</td>\n",
       "      <td>5.000000</td>\n",
       "      <td>5.000000</td>\n",
       "      <td>30.00000</td>\n",
       "      <td>2.000000</td>\n",
       "      <td>0.893000</td>\n",
       "    </tr>\n",
       "  </tbody>\n",
       "</table>\n",
       "</div>"
      ],
      "text/plain": [
       "             Edad   Educacion         NSE       MMSE         CDR        nWBV\n",
       "count  416.000000  235.000000  216.000000  235.00000  235.000000  416.000000\n",
       "mean    52.701923    3.178723    2.490741   27.06383    0.285106    0.789267\n",
       "std     25.082180    1.311510    1.120593    3.69687    0.383405    0.060107\n",
       "min     18.000000    1.000000    1.000000   14.00000    0.000000    0.644000\n",
       "25%     24.000000    2.000000    2.000000   26.00000    0.000000    0.740000\n",
       "50%     56.000000    3.000000    2.000000   29.00000    0.000000    0.804500\n",
       "75%     75.000000    4.000000    3.000000   30.00000    0.500000    0.841000\n",
       "max     96.000000    5.000000    5.000000   30.00000    2.000000    0.893000"
      ]
     },
     "execution_count": 12,
     "metadata": {},
     "output_type": "execute_result"
    }
   ],
   "source": [
    "#Revisando las variables numéricas (int, float)\n",
    "dementiaData.describe()"
   ]
  },
  {
   "cell_type": "markdown",
   "id": "324166e3",
   "metadata": {
    "papermill": {
     "duration": 0.060853,
     "end_time": "2021-08-28T00:40:35.429166",
     "exception": false,
     "start_time": "2021-08-28T00:40:35.368313",
     "status": "completed"
    },
    "tags": []
   },
   "source": [
    "**Revisando datos nulos**"
   ]
  },
  {
   "cell_type": "code",
   "execution_count": 13,
   "id": "b30b080b",
   "metadata": {
    "execution": {
     "iopub.execute_input": "2021-08-28T00:40:35.562000Z",
     "iopub.status.busy": "2021-08-28T00:40:35.561287Z",
     "iopub.status.idle": "2021-08-28T00:40:35.564657Z",
     "shell.execute_reply": "2021-08-28T00:40:35.565289Z",
     "shell.execute_reply.started": "2021-08-28T00:39:23.820588Z"
    },
    "id": "mxfDPI_ybu_B",
    "outputId": "9f1549e3-5966-42cb-cb48-f86c43dcf1b9",
    "papermill": {
     "duration": 0.074973,
     "end_time": "2021-08-28T00:40:35.565485",
     "exception": false,
     "start_time": "2021-08-28T00:40:35.490512",
     "status": "completed"
    },
    "tags": []
   },
   "outputs": [
    {
     "data": {
      "text/plain": [
       "ID                      0\n",
       "Genero                  0\n",
       "Lateralidad_Manual      0\n",
       "Edad                    0\n",
       "Educacion             181\n",
       "NSE                   200\n",
       "MMSE                  181\n",
       "CDR                   181\n",
       "nWBV                    0\n",
       "dtype: int64"
      ]
     },
     "execution_count": 13,
     "metadata": {},
     "output_type": "execute_result"
    }
   ],
   "source": [
    "dementiaData.isnull().sum()"
   ]
  },
  {
   "cell_type": "markdown",
   "id": "7666a2e6",
   "metadata": {
    "id": "mlMUAwScv6BG",
    "papermill": {
     "duration": 0.063296,
     "end_time": "2021-08-28T00:40:35.690587",
     "exception": false,
     "start_time": "2021-08-28T00:40:35.627291",
     "status": "completed"
    },
    "tags": []
   },
   "source": [
    "Hay datos nulos en las columnas Educacion, NSE, MMSE, CDR y Delay "
   ]
  },
  {
   "cell_type": "markdown",
   "id": "898d10bd",
   "metadata": {
    "id": "_U2cL9bObeIT",
    "papermill": {
     "duration": 0.060235,
     "end_time": "2021-08-28T00:40:35.811703",
     "exception": false,
     "start_time": "2021-08-28T00:40:35.751468",
     "status": "completed"
    },
    "tags": []
   },
   "source": [
    "### **Imputación de valores nulos mediante metodo de KNN**"
   ]
  },
  {
   "cell_type": "code",
   "execution_count": 14,
   "id": "2c5a213e",
   "metadata": {
    "execution": {
     "iopub.execute_input": "2021-08-28T00:40:35.937303Z",
     "iopub.status.busy": "2021-08-28T00:40:35.936576Z",
     "iopub.status.idle": "2021-08-28T00:40:35.941086Z",
     "shell.execute_reply": "2021-08-28T00:40:35.941596Z",
     "shell.execute_reply.started": "2021-08-28T00:39:23.832413Z"
    },
    "id": "s73OnGvh9sN9",
    "papermill": {
     "duration": 0.069103,
     "end_time": "2021-08-28T00:40:35.941768",
     "exception": false,
     "start_time": "2021-08-28T00:40:35.872665",
     "status": "completed"
    },
    "tags": []
   },
   "outputs": [],
   "source": [
    "varNumericas = ['Edad', 'Educacion', 'NSE', 'MMSE', 'CDR', 'nWBV']\n",
    "varCategoricas = ['Genero', 'Lateralidad_Manual']"
   ]
  },
  {
   "cell_type": "markdown",
   "id": "5e7d7509",
   "metadata": {
    "papermill": {
     "duration": 0.061026,
     "end_time": "2021-08-28T00:40:36.063988",
     "exception": false,
     "start_time": "2021-08-28T00:40:36.002962",
     "status": "completed"
    },
    "tags": []
   },
   "source": [
    "#### **Método de estandarización min-max**"
   ]
  },
  {
   "cell_type": "markdown",
   "id": "b757f057",
   "metadata": {
    "papermill": {
     "duration": 0.063404,
     "end_time": "2021-08-28T00:40:36.188298",
     "exception": false,
     "start_time": "2021-08-28T00:40:36.124894",
     "status": "completed"
    },
    "tags": []
   },
   "source": [
    "Primero normalizamos los valores que van a ingresar a la función KNN imputer, mediante el método de estandarización min-max "
   ]
  },
  {
   "cell_type": "code",
   "execution_count": 15,
   "id": "13cca151",
   "metadata": {
    "execution": {
     "iopub.execute_input": "2021-08-28T00:40:36.313713Z",
     "iopub.status.busy": "2021-08-28T00:40:36.313070Z",
     "iopub.status.idle": "2021-08-28T00:40:36.320243Z",
     "shell.execute_reply": "2021-08-28T00:40:36.320876Z",
     "shell.execute_reply.started": "2021-08-28T00:39:23.840325Z"
    },
    "id": "NFQgtaFnsyUB",
    "outputId": "3d2b67d9-7243-4bcb-d8a5-bece23fee6f1",
    "papermill": {
     "duration": 0.071504,
     "end_time": "2021-08-28T00:40:36.321073",
     "exception": false,
     "start_time": "2021-08-28T00:40:36.249569",
     "status": "completed"
    },
    "tags": []
   },
   "outputs": [],
   "source": [
    "#Obtenemos y almacenamos los valores mínimos y máximos de las variables numéricas\n",
    "vmin = dementiaData[varNumericas].min()\n",
    "vmax =dementiaData[varNumericas].max()"
   ]
  },
  {
   "cell_type": "code",
   "execution_count": 16,
   "id": "63252778",
   "metadata": {
    "execution": {
     "iopub.execute_input": "2021-08-28T00:40:36.446199Z",
     "iopub.status.busy": "2021-08-28T00:40:36.445531Z",
     "iopub.status.idle": "2021-08-28T00:40:36.448857Z",
     "shell.execute_reply": "2021-08-28T00:40:36.449429Z",
     "shell.execute_reply.started": "2021-08-28T00:39:23.854708Z"
    },
    "id": "WUsVLMxf03OK",
    "papermill": {
     "duration": 0.067432,
     "end_time": "2021-08-28T00:40:36.449596",
     "exception": false,
     "start_time": "2021-08-28T00:40:36.382164",
     "status": "completed"
    },
    "tags": []
   },
   "outputs": [],
   "source": [
    "#Almacenamos la data en una variable llama dementiaData_Num_Norm, la cual almacenará la data con los valores de las variables numéricas estandarizadas.\n",
    "dementiaData_Num_Norm = dementiaData"
   ]
  },
  {
   "cell_type": "code",
   "execution_count": 17,
   "id": "711c4eac",
   "metadata": {
    "execution": {
     "iopub.execute_input": "2021-08-28T00:40:36.575252Z",
     "iopub.status.busy": "2021-08-28T00:40:36.574573Z",
     "iopub.status.idle": "2021-08-28T00:40:36.607513Z",
     "shell.execute_reply": "2021-08-28T00:40:36.608093Z",
     "shell.execute_reply.started": "2021-08-28T00:39:23.861108Z"
    },
    "id": "-ps5Ol4e2Z2j",
    "outputId": "26b2b88a-7502-4a28-9f6c-87ab8bc575ba",
    "papermill": {
     "duration": 0.097427,
     "end_time": "2021-08-28T00:40:36.608276",
     "exception": false,
     "start_time": "2021-08-28T00:40:36.510849",
     "status": "completed"
    },
    "tags": []
   },
   "outputs": [
    {
     "name": "stdout",
     "output_type": "stream",
     "text": [
      "         Edad  Educacion   NSE    MMSE   CDR      nWBV\n",
      "0    0.717949       0.25  0.50  0.9375  0.00  0.397590\n",
      "1    0.474359       0.75  0.00  0.9375  0.00  0.666667\n",
      "2    0.705128       0.75  0.50  0.8125  0.25  0.257028\n",
      "3    0.128205        NaN   NaN     NaN   NaN  0.638554\n",
      "4    0.000000        NaN   NaN     NaN   NaN  0.819277\n",
      "..        ...        ...   ...     ...   ...       ...\n",
      "411  0.666667       0.00  0.75  0.9375  0.25  0.417671\n",
      "412  0.705128       0.50  0.25  0.5625  0.25  0.345382\n",
      "413  0.551282       0.25  0.75  0.8750  0.00  0.726908\n",
      "414  0.551282       1.00  0.25  1.0000  0.00  0.546185\n",
      "415  0.564103       0.50  0.50  0.7500  0.00  0.489960\n",
      "\n",
      "[416 rows x 6 columns]\n"
     ]
    }
   ],
   "source": [
    "#Implementamos la función min-max y la ejecutamos\n",
    "def minmax_norm(df_input):\n",
    "    return (df_input-df_input.min())/(df_input.max() - df_input.min())\n",
    "\n",
    "dementiaData_Num_Norm[varNumericas] = minmax_norm(dementiaData[varNumericas])\n",
    "print(dementiaData_Num_Norm[varNumericas])"
   ]
  },
  {
   "cell_type": "markdown",
   "id": "88d6dd76",
   "metadata": {
    "papermill": {
     "duration": 0.060945,
     "end_time": "2021-08-28T00:40:36.730956",
     "exception": false,
     "start_time": "2021-08-28T00:40:36.670011",
     "status": "completed"
    },
    "tags": []
   },
   "source": [
    "#### **Método KNN imputer**"
   ]
  },
  {
   "cell_type": "code",
   "execution_count": 18,
   "id": "bb69ca75",
   "metadata": {
    "execution": {
     "iopub.execute_input": "2021-08-28T00:40:36.856665Z",
     "iopub.status.busy": "2021-08-28T00:40:36.856009Z",
     "iopub.status.idle": "2021-08-28T00:40:36.920541Z",
     "shell.execute_reply": "2021-08-28T00:40:36.921128Z",
     "shell.execute_reply.started": "2021-08-28T00:39:23.889404Z"
    },
    "id": "XjB1U8g59HPg",
    "outputId": "af4c1cb8-bb00-4466-ca00-7bd8c2df8bbb",
    "papermill": {
     "duration": 0.129075,
     "end_time": "2021-08-28T00:40:36.921304",
     "exception": false,
     "start_time": "2021-08-28T00:40:36.792229",
     "status": "completed"
    },
    "tags": []
   },
   "outputs": [
    {
     "data": {
      "text/plain": [
       "ID                    0\n",
       "Genero                0\n",
       "Lateralidad_Manual    0\n",
       "Edad                  0\n",
       "Educacion             0\n",
       "NSE                   0\n",
       "MMSE                  0\n",
       "CDR                   0\n",
       "nWBV                  0\n",
       "dtype: int64"
      ]
     },
     "execution_count": 18,
     "metadata": {},
     "output_type": "execute_result"
    }
   ],
   "source": [
    "from sklearn.impute import KNNImputer\n",
    "\n",
    "knn = KNNImputer(n_neighbors=3)\n",
    "dementiaData_Num_Norm[['Edad','MMSE', 'CDR', 'nWBV']] = knn.fit_transform(dementiaData_Num_Norm[['Edad','MMSE', 'CDR', 'nWBV']])\n",
    "dementiaData_Num_Norm[['Educacion', 'NSE']] = knn.fit_transform(dementiaData_Num_Norm [['Educacion', 'NSE']])\n",
    "dementiaData_Num_Norm.isnull().sum()"
   ]
  },
  {
   "cell_type": "code",
   "execution_count": 19,
   "id": "5408d04d",
   "metadata": {
    "execution": {
     "iopub.execute_input": "2021-08-28T00:40:37.082331Z",
     "iopub.status.busy": "2021-08-28T00:40:37.081495Z",
     "iopub.status.idle": "2021-08-28T00:40:37.083973Z",
     "shell.execute_reply": "2021-08-28T00:40:37.084418Z",
     "shell.execute_reply.started": "2021-08-28T00:39:23.940383Z"
    },
    "id": "PGfvMaHY4CzS",
    "outputId": "bef97d45-c03b-40d5-bb40-29e9da295f9d",
    "papermill": {
     "duration": 0.068845,
     "end_time": "2021-08-28T00:40:37.084587",
     "exception": false,
     "start_time": "2021-08-28T00:40:37.015742",
     "status": "completed"
    },
    "tags": []
   },
   "outputs": [],
   "source": [
    "#Almacenamos la data en una variable llamada dementiaData_Num_DesNorm, la cual almacenará la data con los valores de las variables numéricas desnormalizadas o en su escala de medicion original.\n",
    "dementiaData_Num_DesNorm = dementiaData_Num_Norm "
   ]
  },
  {
   "cell_type": "code",
   "execution_count": 20,
   "id": "895ca296",
   "metadata": {
    "execution": {
     "iopub.execute_input": "2021-08-28T00:40:37.218631Z",
     "iopub.status.busy": "2021-08-28T00:40:37.217774Z",
     "iopub.status.idle": "2021-08-28T00:40:37.221896Z",
     "shell.execute_reply": "2021-08-28T00:40:37.221265Z",
     "shell.execute_reply.started": "2021-08-28T00:39:23.946810Z"
    },
    "id": "HyLIGIw6ooaB",
    "papermill": {
     "duration": 0.076007,
     "end_time": "2021-08-28T00:40:37.222044",
     "exception": false,
     "start_time": "2021-08-28T00:40:37.146037",
     "status": "completed"
    },
    "tags": []
   },
   "outputs": [],
   "source": [
    "#Implementamos la función min-max en reversa y la ejecutamos\n",
    "def minmax_desnorm(df_input):\n",
    "  return (df_input)*(vmax - vmin) + vmin\n",
    "\n",
    "dementiaData_Num_DesNorm[varNumericas] = minmax_desnorm(dementiaData_Num_Norm[varNumericas])"
   ]
  },
  {
   "cell_type": "markdown",
   "id": "e9752401",
   "metadata": {
    "papermill": {
     "duration": 0.06111,
     "end_time": "2021-08-28T00:40:37.344546",
     "exception": false,
     "start_time": "2021-08-28T00:40:37.283436",
     "status": "completed"
    },
    "tags": []
   },
   "source": [
    "Una vez que se tiene el dataset con los valores desnormalizados y con los valores nulos imputados, se almacena en un nuevo dataset llamado dementiaData2"
   ]
  },
  {
   "cell_type": "code",
   "execution_count": 21,
   "id": "26c018a2",
   "metadata": {
    "execution": {
     "iopub.execute_input": "2021-08-28T00:40:37.472252Z",
     "iopub.status.busy": "2021-08-28T00:40:37.471287Z",
     "iopub.status.idle": "2021-08-28T00:40:37.473795Z",
     "shell.execute_reply": "2021-08-28T00:40:37.474294Z",
     "shell.execute_reply.started": "2021-08-28T00:39:23.964746Z"
    },
    "id": "-pY5VD-IGJGq",
    "papermill": {
     "duration": 0.068525,
     "end_time": "2021-08-28T00:40:37.474451",
     "exception": false,
     "start_time": "2021-08-28T00:40:37.405926",
     "status": "completed"
    },
    "tags": []
   },
   "outputs": [],
   "source": [
    "dementiaData2 = dementiaData_Num_DesNorm"
   ]
  },
  {
   "cell_type": "markdown",
   "id": "8ef0250f",
   "metadata": {
    "papermill": {
     "duration": 0.061201,
     "end_time": "2021-08-28T00:40:37.597285",
     "exception": false,
     "start_time": "2021-08-28T00:40:37.536084",
     "status": "completed"
    },
    "tags": []
   },
   "source": [
    "A continuación creamos 2 variables categóricas ('Grupo_Edad',\"Grupo_Diagnosis\" ) a partir de otras ya existentes."
   ]
  },
  {
   "cell_type": "code",
   "execution_count": 22,
   "id": "020ba035",
   "metadata": {
    "execution": {
     "iopub.execute_input": "2021-08-28T00:40:37.729201Z",
     "iopub.status.busy": "2021-08-28T00:40:37.728077Z",
     "iopub.status.idle": "2021-08-28T00:40:37.732817Z",
     "shell.execute_reply": "2021-08-28T00:40:37.732314Z",
     "shell.execute_reply.started": "2021-08-28T00:39:23.974085Z"
    },
    "id": "8n62uB9XjYfO",
    "papermill": {
     "duration": 0.074183,
     "end_time": "2021-08-28T00:40:37.732959",
     "exception": false,
     "start_time": "2021-08-28T00:40:37.658776",
     "status": "completed"
    },
    "tags": []
   },
   "outputs": [],
   "source": [
    "dementiaData2['Grupo_Edad'] = pd.cut(dementiaData2.Edad,bins=[0,19,29,39, 49, 59, 69, 79, 89,99],labels=['>20','20s','30s','40s', '50s', '60s', '70s', '80s', '<90'])"
   ]
  },
  {
   "cell_type": "code",
   "execution_count": 23,
   "id": "8a72a6b7",
   "metadata": {
    "execution": {
     "iopub.execute_input": "2021-08-28T00:40:37.858569Z",
     "iopub.status.busy": "2021-08-28T00:40:37.857956Z",
     "iopub.status.idle": "2021-08-28T00:40:37.864582Z",
     "shell.execute_reply": "2021-08-28T00:40:37.865130Z",
     "shell.execute_reply.started": "2021-08-28T00:39:23.992192Z"
    },
    "id": "J6nKZFmojYfQ",
    "papermill": {
     "duration": 0.071204,
     "end_time": "2021-08-28T00:40:37.865300",
     "exception": false,
     "start_time": "2021-08-28T00:40:37.794096",
     "status": "completed"
    },
    "tags": []
   },
   "outputs": [],
   "source": [
    "dementiaData2[\"Grupo_Diagnosis\"] = pd.cut(dementiaData2.CDR, bins=[-1, 0.4, 2],labels=['Non-Demented', 'Demented'])"
   ]
  },
  {
   "cell_type": "markdown",
   "id": "007b0841",
   "metadata": {
    "papermill": {
     "duration": 0.060981,
     "end_time": "2021-08-28T00:40:37.987235",
     "exception": false,
     "start_time": "2021-08-28T00:40:37.926254",
     "status": "completed"
    },
    "tags": []
   },
   "source": [
    "Por último, reducimos los decimales en los valores de las variables \"Educacion\", \"NSE\" y \"MMSE\""
   ]
  },
  {
   "cell_type": "code",
   "execution_count": 24,
   "id": "264fb9ab",
   "metadata": {
    "execution": {
     "iopub.execute_input": "2021-08-28T00:40:38.114545Z",
     "iopub.status.busy": "2021-08-28T00:40:38.113921Z",
     "iopub.status.idle": "2021-08-28T00:40:38.120162Z",
     "shell.execute_reply": "2021-08-28T00:40:38.120695Z",
     "shell.execute_reply.started": "2021-08-28T00:39:24.008412Z"
    },
    "id": "Q3ReaMnuC95Q",
    "papermill": {
     "duration": 0.07176,
     "end_time": "2021-08-28T00:40:38.120887",
     "exception": false,
     "start_time": "2021-08-28T00:40:38.049127",
     "status": "completed"
    },
    "tags": []
   },
   "outputs": [],
   "source": [
    "dementiaData2[\"Educacion\"] = dementiaData2[\"Educacion\"].round(0)\n",
    "dementiaData2[\"NSE\"] = dementiaData2[\"NSE\"].round(0)\n",
    "dementiaData2[\"MMSE\"] = dementiaData2[\"MMSE\"].round(0)"
   ]
  },
  {
   "cell_type": "markdown",
   "id": "87ea3318",
   "metadata": {
    "id": "excWE9JaCzpm",
    "papermill": {
     "duration": 0.061517,
     "end_time": "2021-08-28T00:40:38.245438",
     "exception": false,
     "start_time": "2021-08-28T00:40:38.183921",
     "status": "completed"
    },
    "tags": []
   },
   "source": [
    "### **Correcciones realizadas**:\n",
    "- Se imputaron los valores nulos en las columnas con datos NaN\n",
    "- Se redondearon las columnas numericas con excepcionde CDR y nWBV\n",
    "- Se creó dos columnas categoricas Grupo_Edad, Grupo_Diagnosis"
   ]
  },
  {
   "cell_type": "markdown",
   "id": "f6435009",
   "metadata": {
    "id": "C8CkiUdV_9__",
    "papermill": {
     "duration": 0.061059,
     "end_time": "2021-08-28T00:40:38.367526",
     "exception": false,
     "start_time": "2021-08-28T00:40:38.306467",
     "status": "completed"
    },
    "tags": []
   },
   "source": [
    "## **Análisis Exploratorio**"
   ]
  },
  {
   "cell_type": "markdown",
   "id": "17c25deb",
   "metadata": {
    "id": "f6domh-gSQgE",
    "papermill": {
     "duration": 0.060783,
     "end_time": "2021-08-28T00:40:38.489499",
     "exception": false,
     "start_time": "2021-08-28T00:40:38.428716",
     "status": "completed"
    },
    "tags": []
   },
   "source": [
    "### **Primeros resultados con el total de la población**"
   ]
  },
  {
   "cell_type": "code",
   "execution_count": 25,
   "id": "2f796644",
   "metadata": {
    "execution": {
     "iopub.execute_input": "2021-08-28T00:40:38.623013Z",
     "iopub.status.busy": "2021-08-28T00:40:38.622368Z",
     "iopub.status.idle": "2021-08-28T00:40:38.915818Z",
     "shell.execute_reply": "2021-08-28T00:40:38.916365Z",
     "shell.execute_reply.started": "2021-08-28T00:39:24.021857Z"
    },
    "id": "0Otzk9QThx4Y",
    "outputId": "d890ae02-1a1d-4ae1-88a1-d546a37e2e81",
    "papermill": {
     "duration": 0.365413,
     "end_time": "2021-08-28T00:40:38.916534",
     "exception": false,
     "start_time": "2021-08-28T00:40:38.551121",
     "status": "completed"
    },
    "tags": []
   },
   "outputs": [
    {
     "data": {
      "text/plain": [
       "<AxesSubplot:xlabel='Grupo_Edad', ylabel='Count'>"
      ]
     },
     "execution_count": 25,
     "metadata": {},
     "output_type": "execute_result"
    },
    {
     "data": {
      "image/png": "[encoded data removed]",
      "text/plain": [
       "<Figure size 432x288 with 1 Axes>"
      ]
     },
     "metadata": {
      "needs_background": "light"
     },
     "output_type": "display_data"
    }
   ],
   "source": [
    "#Proporcion de sujetos según grado de demencia\n",
    "sns.histplot(data=dementiaData2, x=\"Grupo_Edad\",hue='Grupo_Diagnosis', multiple=\"stack\")"
   ]
  },
  {
   "cell_type": "markdown",
   "id": "3f0f4454",
   "metadata": {
    "id": "bB5QXksfuTKm",
    "papermill": {
     "duration": 0.06215,
     "end_time": "2021-08-28T00:40:39.042060",
     "exception": false,
     "start_time": "2021-08-28T00:40:38.979910",
     "status": "completed"
    },
    "tags": []
   },
   "source": [
    "Se observa que la cantidad de personas con diagnóstico de demencia en cualquiera de sus grados se encuentran en los grupos de 60 años en adelante. La edad resulta un factor que puede influir en otras variables, como en las siguientes:"
   ]
  },
  {
   "cell_type": "code",
   "execution_count": 26,
   "id": "5ab4fe09",
   "metadata": {
    "execution": {
     "iopub.execute_input": "2021-08-28T00:40:39.171250Z",
     "iopub.status.busy": "2021-08-28T00:40:39.170633Z",
     "iopub.status.idle": "2021-08-28T00:40:39.638035Z",
     "shell.execute_reply": "2021-08-28T00:40:39.638627Z",
     "shell.execute_reply.started": "2021-08-28T00:39:24.314958Z"
    },
    "id": "uk9_dQUPnwL6",
    "outputId": "1e6b0ec1-1e8d-4bef-daab-85d6d1a08dce",
    "papermill": {
     "duration": 0.53364,
     "end_time": "2021-08-28T00:40:39.638796",
     "exception": false,
     "start_time": "2021-08-28T00:40:39.105156",
     "status": "completed"
    },
    "tags": []
   },
   "outputs": [
    {
     "data": {
      "text/plain": [
       "<AxesSubplot:xlabel='Grupo_Edad', ylabel='nWBV'>"
      ]
     },
     "execution_count": 26,
     "metadata": {},
     "output_type": "execute_result"
    },
    {
     "data": {
      "image/png": "[encoded data removed]",
      "text/plain": [
       "<Figure size 432x288 with 1 Axes>"
      ]
     },
     "metadata": {
      "needs_background": "light"
     },
     "output_type": "display_data"
    }
   ],
   "source": [
    "#Distribución del nWBV según grupo de edad\n",
    "sns.boxplot( x=dementiaData2[\"Grupo_Edad\"], y=dementiaData2[\"nWBV\"])\n",
    "sns.stripplot(x=dementiaData2[\"Grupo_Edad\"], y=dementiaData2[\"nWBV\"], data=dementiaData2, color=\"orange\", jitter=0.2, size=2)"
   ]
  },
  {
   "cell_type": "markdown",
   "id": "b6de7f6e",
   "metadata": {
    "papermill": {
     "duration": 0.063938,
     "end_time": "2021-08-28T00:40:39.766645",
     "exception": false,
     "start_time": "2021-08-28T00:40:39.702707",
     "status": "completed"
    },
    "tags": []
   },
   "source": [
    "Se observa que a medida que se avanza en los grupos de edad, la mediana del volumen total del cerebro normalizado (nWBV) va disminuyendo, con un cambio más notorio a partir de los 60 años."
   ]
  },
  {
   "cell_type": "code",
   "execution_count": 27,
   "id": "23b982f1",
   "metadata": {
    "execution": {
     "iopub.execute_input": "2021-08-28T00:40:39.897102Z",
     "iopub.status.busy": "2021-08-28T00:40:39.896468Z",
     "iopub.status.idle": "2021-08-28T00:40:41.818482Z",
     "shell.execute_reply": "2021-08-28T00:40:41.817853Z",
     "shell.execute_reply.started": "2021-08-28T00:39:24.683017Z"
    },
    "id": "wHAYMihAifpA",
    "outputId": "c63620d3-9a48-4fa3-c59d-31e0702a3f1c",
    "papermill": {
     "duration": 1.988605,
     "end_time": "2021-08-28T00:40:41.818628",
     "exception": false,
     "start_time": "2021-08-28T00:40:39.830023",
     "status": "completed"
    },
    "tags": []
   },
   "outputs": [
    {
     "data": {
      "text/plain": [
       "<matplotlib.lines.Line2D at 0x7f0ddef5f5d0>"
      ]
     },
     "execution_count": 27,
     "metadata": {},
     "output_type": "execute_result"
    },
    {
     "data": {
      "image/png": "[encoded data removed]",
      "text/plain": [
       "<Figure size 432x288 with 1 Axes>"
      ]
     },
     "metadata": {
      "needs_background": "light"
     },
     "output_type": "display_data"
    }
   ],
   "source": [
    "#Distribución del MMSE según grupo de edad\n",
    "sns.histplot(data=dementiaData2, x=\"MMSE\",hue='Grupo_Edad',multiple=\"stack\")\n",
    "plt.axvline(24, color='black', linestyle='--')"
   ]
  },
  {
   "cell_type": "markdown",
   "id": "ca9105b6",
   "metadata": {
    "papermill": {
     "duration": 0.064972,
     "end_time": "2021-08-28T00:40:41.949592",
     "exception": false,
     "start_time": "2021-08-28T00:40:41.884620",
     "status": "completed"
    },
    "tags": []
   },
   "source": [
    "Las puntuaciones por debajo de 24 en el MMSE sugieren una función cognitiva anormal ligado a un posible diagnóstico de demencia, pudiendose observar en la gráfica que los grupos de edad que se encuentran debajo del puntaje, son los de 60s,70s, 80, <90."
   ]
  },
  {
   "cell_type": "markdown",
   "id": "979f3fc3",
   "metadata": {
    "id": "1DrDjBzeSVxA",
    "papermill": {
     "duration": 0.065167,
     "end_time": "2021-08-28T00:40:42.080227",
     "exception": false,
     "start_time": "2021-08-28T00:40:42.015060",
     "status": "completed"
    },
    "tags": []
   },
   "source": [
    "### **Análisis solo en adultos mayores**"
   ]
  },
  {
   "cell_type": "markdown",
   "id": "35ab2137",
   "metadata": {
    "papermill": {
     "duration": 0.06684,
     "end_time": "2021-08-28T00:40:42.212946",
     "exception": false,
     "start_time": "2021-08-28T00:40:42.146106",
     "status": "completed"
    },
    "tags": []
   },
   "source": [
    "Tomando en cuenta la relevancia del factor edad, exploraremos más sobre la demencia en los sujetos\n",
    "mayores de 60 años (n=198)."
   ]
  },
  {
   "cell_type": "code",
   "execution_count": 28,
   "id": "948dbfcf",
   "metadata": {
    "execution": {
     "iopub.execute_input": "2021-08-28T00:40:42.352393Z",
     "iopub.status.busy": "2021-08-28T00:40:42.351668Z",
     "iopub.status.idle": "2021-08-28T00:40:42.354237Z",
     "shell.execute_reply": "2021-08-28T00:40:42.354705Z",
     "shell.execute_reply.started": "2021-08-28T00:39:26.809226Z"
    },
    "id": "EonYTwVEgmCu",
    "papermill": {
     "duration": 0.076118,
     "end_time": "2021-08-28T00:40:42.354893",
     "exception": false,
     "start_time": "2021-08-28T00:40:42.278775",
     "status": "completed"
    },
    "tags": []
   },
   "outputs": [
    {
     "data": {
      "text/plain": [
       "198"
      ]
     },
     "execution_count": 28,
     "metadata": {},
     "output_type": "execute_result"
    }
   ],
   "source": [
    "adultosMayores = dementiaData2.loc[(dementiaData2.Edad >= 60)]\n",
    "len(adultosMayores)"
   ]
  },
  {
   "cell_type": "code",
   "execution_count": 29,
   "id": "833a19b1",
   "metadata": {
    "execution": {
     "iopub.execute_input": "2021-08-28T00:40:42.499210Z",
     "iopub.status.busy": "2021-08-28T00:40:42.496070Z",
     "iopub.status.idle": "2021-08-28T00:40:42.506000Z",
     "shell.execute_reply": "2021-08-28T00:40:42.506530Z",
     "shell.execute_reply.started": "2021-08-28T00:39:26.821021Z"
    },
    "id": "ph4QeF0S4Rfd",
    "papermill": {
     "duration": 0.086147,
     "end_time": "2021-08-28T00:40:42.506710",
     "exception": false,
     "start_time": "2021-08-28T00:40:42.420563",
     "status": "completed"
    },
    "tags": []
   },
   "outputs": [],
   "source": [
    "adultosMayores[\"Grupo_Edad\"] = pd.cut(adultosMayores.Edad,bins=[59, 69, 79, 89,99],labels=['60s', '70s', '80s', '<90'])"
   ]
  },
  {
   "cell_type": "code",
   "execution_count": 30,
   "id": "f506f44d",
   "metadata": {
    "execution": {
     "iopub.execute_input": "2021-08-28T00:40:42.661089Z",
     "iopub.status.busy": "2021-08-28T00:40:42.660425Z",
     "iopub.status.idle": "2021-08-28T00:40:42.829092Z",
     "shell.execute_reply": "2021-08-28T00:40:42.828422Z",
     "shell.execute_reply.started": "2021-08-28T00:39:26.833223Z"
    },
    "id": "qQKp84aNSIjL",
    "outputId": "73f53dc7-e94d-4fc3-e7f0-a7dec675aaad",
    "papermill": {
     "duration": 0.241292,
     "end_time": "2021-08-28T00:40:42.829230",
     "exception": false,
     "start_time": "2021-08-28T00:40:42.587938",
     "status": "completed"
    },
    "tags": []
   },
   "outputs": [
    {
     "data": {
      "text/plain": [
       "Text(0.5, 1.0, 'Proporcion de adultos mayores con demencia n=198')"
      ]
     },
     "execution_count": 30,
     "metadata": {},
     "output_type": "execute_result"
    },
    {
     "data": {
      "image/png": "[encoded data removed]",
      "text/plain": [
       "<Figure size 576x432 with 1 Axes>"
      ]
     },
     "metadata": {},
     "output_type": "display_data"
    }
   ],
   "source": [
    "ax = adultosMayores.Grupo_Diagnosis.value_counts().plot.pie(startangle=45,\n",
    "                                               autopct='%.1f %%',\n",
    "                                               figsize=(8, 6))\n",
    "ax.set_title(\"Proporcion de adultos mayores con demencia n=198\",fontsize=16, weight=\"bold\")"
   ]
  },
  {
   "cell_type": "markdown",
   "id": "9ff092d7",
   "metadata": {
    "papermill": {
     "duration": 0.06775,
     "end_time": "2021-08-28T00:40:42.964018",
     "exception": false,
     "start_time": "2021-08-28T00:40:42.896268",
     "status": "completed"
    },
    "tags": []
   },
   "source": [
    "En la figura se observa que\n",
    "el 50.5% (n=100) de los adultos presentan algún grado de\n",
    "demencia."
   ]
  },
  {
   "cell_type": "code",
   "execution_count": 31,
   "id": "9747dd21",
   "metadata": {
    "execution": {
     "iopub.execute_input": "2021-08-28T00:40:43.146146Z",
     "iopub.status.busy": "2021-08-28T00:40:43.145100Z",
     "iopub.status.idle": "2021-08-28T00:40:43.859848Z",
     "shell.execute_reply": "2021-08-28T00:40:43.859213Z",
     "shell.execute_reply.started": "2021-08-28T00:39:26.961237Z"
    },
    "id": "MXUuoVkIyZpH",
    "outputId": "1ddd9707-5bd0-47e2-baf2-92627eeb37a3",
    "papermill": {
     "duration": 0.828737,
     "end_time": "2021-08-28T00:40:43.859997",
     "exception": false,
     "start_time": "2021-08-28T00:40:43.031260",
     "status": "completed"
    },
    "tags": []
   },
   "outputs": [
    {
     "data": {
      "image/png": "[encoded data removed]",
      "text/plain": [
       "<Figure size 504x504 with 4 Axes>"
      ]
     },
     "metadata": {
      "needs_background": "light"
     },
     "output_type": "display_data"
    }
   ],
   "source": [
    "fig, axs = plt.subplots(2, 2, figsize=(7, 7))\n",
    "sns.histplot(data=adultosMayores, x=\"nWBV\", kde=True, ax=axs[0, 0])\n",
    "sns.histplot(data=adultosMayores, x=\"MMSE\", kde=True, ax=axs[0, 1])\n",
    "sns.histplot(data=adultosMayores, x=\"CDR\", ax=axs[1, 0])\n",
    "sns.histplot(data=adultosMayores, x=\"Educacion\", ax=axs[1, 1])\n",
    "plt.show()"
   ]
  },
  {
   "cell_type": "markdown",
   "id": "1cc2437c",
   "metadata": {
    "papermill": {
     "duration": 0.068068,
     "end_time": "2021-08-28T00:40:43.997678",
     "exception": false,
     "start_time": "2021-08-28T00:40:43.929610",
     "status": "completed"
    },
    "tags": []
   },
   "source": [
    "Se observa que el volumen total del cerebro normalizado sigue\n",
    "una distribución aparentemente normal con una mediana de\n",
    "0.74; en el test MMSE hay una proporción alta que puntúan\n",
    "por encima de 24 en el test; respecto al CDR, de los que\n",
    "presentan algún grado de demencia, se observan mayor\n",
    "frecuencia en demencia muy leve (0.5); y en cuanto al grado\n",
    "de educación, con mayor frecuencia los sujetos presentaron\n",
    "secundaria completa (2) y universidad incompleta (3)."
   ]
  },
  {
   "cell_type": "code",
   "execution_count": 32,
   "id": "68177ff1",
   "metadata": {
    "execution": {
     "iopub.execute_input": "2021-08-28T00:40:44.170483Z",
     "iopub.status.busy": "2021-08-28T00:40:44.167674Z",
     "iopub.status.idle": "2021-08-28T00:40:44.335540Z",
     "shell.execute_reply": "2021-08-28T00:40:44.335039Z",
     "shell.execute_reply.started": "2021-08-28T00:39:27.569672Z"
    },
    "id": "Ha4XlVickfMG",
    "outputId": "01b9122a-5ff2-46e4-f047-62cc0affedbd",
    "papermill": {
     "duration": 0.269612,
     "end_time": "2021-08-28T00:40:44.335678",
     "exception": false,
     "start_time": "2021-08-28T00:40:44.066066",
     "status": "completed"
    },
    "tags": []
   },
   "outputs": [
    {
     "data": {
      "image/png": "[encoded data removed]",
      "text/plain": [
       "<Figure size 432x288 with 1 Axes>"
      ]
     },
     "metadata": {
      "needs_background": "light"
     },
     "output_type": "display_data"
    }
   ],
   "source": [
    "ax = sns.histplot(data=adultosMayores, x=\"Grupo_Diagnosis\",hue='Genero',multiple=\"stack\")"
   ]
  },
  {
   "cell_type": "markdown",
   "id": "dfcbbb98",
   "metadata": {
    "papermill": {
     "duration": 0.068659,
     "end_time": "2021-08-28T00:40:44.473415",
     "exception": false,
     "start_time": "2021-08-28T00:40:44.404756",
     "status": "completed"
    },
    "tags": []
   },
   "source": [
    "Se observa que tanto en el grupo con y sin\n",
    "diagnóstico de demencia se observa una ligera mayoria del\n",
    "sexo femenino."
   ]
  },
  {
   "cell_type": "code",
   "execution_count": 33,
   "id": "6d05d509",
   "metadata": {
    "execution": {
     "iopub.execute_input": "2021-08-28T00:40:44.644637Z",
     "iopub.status.busy": "2021-08-28T00:40:44.621875Z",
     "iopub.status.idle": "2021-08-28T00:40:45.793125Z",
     "shell.execute_reply": "2021-08-28T00:40:45.792332Z",
     "shell.execute_reply.started": "2021-08-28T00:39:27.767939Z"
    },
    "id": "phgSmVsHpulG",
    "outputId": "73e6d61f-5deb-49c1-a0b9-6fa796c9a39a",
    "papermill": {
     "duration": 1.250999,
     "end_time": "2021-08-28T00:40:45.793294",
     "exception": false,
     "start_time": "2021-08-28T00:40:44.542295",
     "status": "completed"
    },
    "tags": []
   },
   "outputs": [
    {
     "data": {
      "image/png": "[encoded data removed]",
      "text/plain": [
       "<Figure size 471.825x288 with 2 Axes>"
      ]
     },
     "metadata": {
      "needs_background": "light"
     },
     "output_type": "display_data"
    }
   ],
   "source": [
    "g = sns.catplot(x=\"Genero\", y=\"nWBV\",\n",
    "                hue=\"Grupo_Edad\", col=\"Grupo_Diagnosis\",\n",
    "                data=adultosMayores, kind=\"bar\",\n",
    "                height=4, aspect=.7)"
   ]
  },
  {
   "cell_type": "markdown",
   "id": "c7ac2a78",
   "metadata": {
    "papermill": {
     "duration": 0.069106,
     "end_time": "2021-08-28T00:40:45.931987",
     "exception": false,
     "start_time": "2021-08-28T00:40:45.862881",
     "status": "completed"
    },
    "tags": []
   },
   "source": [
    "Se observa que el volumen\n",
    "total del cerebro normalizado, en el grupo con y sin demencia,\n",
    "va disminuyendo mientras se avanza en los grupos de edad."
   ]
  },
  {
   "cell_type": "code",
   "execution_count": 34,
   "id": "eabcb804",
   "metadata": {
    "execution": {
     "iopub.execute_input": "2021-08-28T00:40:46.081873Z",
     "iopub.status.busy": "2021-08-28T00:40:46.080765Z",
     "iopub.status.idle": "2021-08-28T00:40:46.336093Z",
     "shell.execute_reply": "2021-08-28T00:40:46.335442Z",
     "shell.execute_reply.started": "2021-08-28T00:39:28.816076Z"
    },
    "id": "JV__m5r0dRAc",
    "outputId": "e865660f-5acd-4df5-e723-aa0d87f2138c",
    "papermill": {
     "duration": 0.33472,
     "end_time": "2021-08-28T00:40:46.336237",
     "exception": false,
     "start_time": "2021-08-28T00:40:46.001517",
     "status": "completed"
    },
    "tags": []
   },
   "outputs": [
    {
     "data": {
      "text/plain": [
       "<AxesSubplot:xlabel='Grupo_Diagnosis', ylabel='Count'>"
      ]
     },
     "execution_count": 34,
     "metadata": {},
     "output_type": "execute_result"
    },
    {
     "data": {
      "image/png": "[encoded data removed]",
      "text/plain": [
       "<Figure size 432x288 with 1 Axes>"
      ]
     },
     "metadata": {
      "needs_background": "light"
     },
     "output_type": "display_data"
    }
   ],
   "source": [
    "sns.histplot(data=adultosMayores, x=\"Grupo_Diagnosis\",hue='Educacion',multiple=\"stack\")"
   ]
  },
  {
   "cell_type": "markdown",
   "id": "c8dc390c",
   "metadata": {
    "papermill": {
     "duration": 0.070327,
     "end_time": "2021-08-28T00:40:46.477085",
     "exception": false,
     "start_time": "2021-08-28T00:40:46.406758",
     "status": "completed"
    },
    "tags": []
   },
   "source": [
    "### **Análisis: comparación entre toda la población y solo en adultos mayores**"
   ]
  },
  {
   "cell_type": "markdown",
   "id": "0293d4f6",
   "metadata": {
    "papermill": {
     "duration": 0.070119,
     "end_time": "2021-08-28T00:40:46.617497",
     "exception": false,
     "start_time": "2021-08-28T00:40:46.547378",
     "status": "completed"
    },
    "tags": []
   },
   "source": [
    "En el mapa de color con los valores de\n",
    "los 416 sujetos en el dataset, y se puede observar que de las\n",
    "variables de interés aquellas que presentan una mayor\n",
    "correlación son: nWBV-Edad, nWBV-CDR, nWBV-MMSE,\n",
    "CDR-Edad y CDR-MMSE. Se pensó que quizás la Educación\n",
    "presentaría una mayor correlación con el test cognitivo\n",
    "MMSE, pero solo se encontró una mayor relación con el\n",
    "NSE."
   ]
  },
  {
   "cell_type": "code",
   "execution_count": 35,
   "id": "8ddd2d84",
   "metadata": {
    "execution": {
     "iopub.execute_input": "2021-08-28T00:40:46.782670Z",
     "iopub.status.busy": "2021-08-28T00:40:46.781630Z",
     "iopub.status.idle": "2021-08-28T00:40:47.114041Z",
     "shell.execute_reply": "2021-08-28T00:40:47.114514Z",
     "shell.execute_reply.started": "2021-08-28T00:39:29.079395Z"
    },
    "id": "pQ6Ej24HbZSa",
    "outputId": "9e4a63c7-d447-4096-afb4-bae21edb88d1",
    "papermill": {
     "duration": 0.426599,
     "end_time": "2021-08-28T00:40:47.114686",
     "exception": false,
     "start_time": "2021-08-28T00:40:46.688087",
     "status": "completed"
    },
    "tags": []
   },
   "outputs": [
    {
     "data": {
      "image/png": "[encoded data removed]",
      "text/plain": [
       "<Figure size 432x288 with 2 Axes>"
      ]
     },
     "metadata": {
      "needs_background": "light"
     },
     "output_type": "display_data"
    }
   ],
   "source": [
    "#Explorando correlaciones entre variables numericas en toda la población\n",
    "from scipy import stats\n",
    "num_corr= dementiaData2.corr()\n",
    "# plt.figure(figsize=(16, 6))\n",
    "mask = np.triu(np.ones_like(num_corr, dtype=np.bool))\n",
    "num_heatmap = sns.heatmap(num_corr, mask=mask, vmin=-1, vmax=1, annot=True, cmap='BuPu')\n",
    "# num_heatmap.set_title('Correlacion - Mapa de Calor', fontdict={'fontsize':12}, pad=12);"
   ]
  },
  {
   "cell_type": "markdown",
   "id": "74ea658f",
   "metadata": {
    "papermill": {
     "duration": 0.073715,
     "end_time": "2021-08-28T00:40:47.261548",
     "exception": false,
     "start_time": "2021-08-28T00:40:47.187833",
     "status": "completed"
    },
    "tags": []
   },
   "source": [
    "Sin embargo, la fuerza de las correlaciones cambia cuando se\n",
    "inserta solo valores de los adultos mayores (<60). En el siguiente mapa de calor se encuentra que las correlaciones entre las variables de\n",
    "interés disminuyen en este grupo etario, las correlaciones\n",
    "disminuyen en el siguiente orden descendente (mayor a menor\n",
    "cambio): CDR-Edad, nWBV-Edad, nWBV-CDR, nWBV-\n",
    "MMSE y CDR-MMSE."
   ]
  },
  {
   "cell_type": "code",
   "execution_count": 36,
   "id": "a4e21604",
   "metadata": {
    "execution": {
     "iopub.execute_input": "2021-08-28T00:40:47.459292Z",
     "iopub.status.busy": "2021-08-28T00:40:47.456152Z",
     "iopub.status.idle": "2021-08-28T00:40:47.761706Z",
     "shell.execute_reply": "2021-08-28T00:40:47.761211Z",
     "shell.execute_reply.started": "2021-08-28T00:39:29.432050Z"
    },
    "id": "ehskE3KaLVMQ",
    "outputId": "e53c87b0-acaf-43f0-dd86-52fa7269572a",
    "papermill": {
     "duration": 0.427983,
     "end_time": "2021-08-28T00:40:47.761859",
     "exception": false,
     "start_time": "2021-08-28T00:40:47.333876",
     "status": "completed"
    },
    "tags": []
   },
   "outputs": [
    {
     "data": {
      "image/png": "[encoded data removed]",
      "text/plain": [
       "<Figure size 432x288 with 2 Axes>"
      ]
     },
     "metadata": {
      "needs_background": "light"
     },
     "output_type": "display_data"
    }
   ],
   "source": [
    "#Explorando correlaciones entre variables numericas solo en adultos mayores\n",
    "from scipy import stats\n",
    "num_corr= adultosMayores.corr()\n",
    "# plt.figure(figsize=(16, 6))\n",
    "mask = np.triu(np.ones_like(num_corr, dtype=np.bool))\n",
    "num_heatmap = sns.heatmap(num_corr, mask=mask, vmin=-1, vmax=1, annot=True, cmap='BuPu')"
   ]
  },
  {
   "cell_type": "code",
   "execution_count": 37,
   "id": "12f71a9d",
   "metadata": {
    "execution": {
     "iopub.execute_input": "2021-08-28T00:40:47.959154Z",
     "iopub.status.busy": "2021-08-28T00:40:47.958494Z",
     "iopub.status.idle": "2021-08-28T00:40:48.598486Z",
     "shell.execute_reply": "2021-08-28T00:40:48.597901Z",
     "shell.execute_reply.started": "2021-08-28T00:39:29.777971Z"
    },
    "id": "1BSHrmzdTf6-",
    "outputId": "bf41953b-6c70-4804-99eb-3f80d0c05e3e",
    "papermill": {
     "duration": 0.763975,
     "end_time": "2021-08-28T00:40:48.598636",
     "exception": false,
     "start_time": "2021-08-28T00:40:47.834661",
     "status": "completed"
    },
    "tags": []
   },
   "outputs": [
    {
     "data": {
      "text/plain": [
       "Text(0.5, 1.05, 'Correlación entre la Edad y nWBV en toda la población')"
      ]
     },
     "execution_count": 37,
     "metadata": {},
     "output_type": "execute_result"
    },
    {
     "data": {
      "image/png": "[encoded data removed]",
      "text/plain": [
       "<Figure size 288x288 with 3 Axes>"
      ]
     },
     "metadata": {
      "needs_background": "light"
     },
     "output_type": "display_data"
    }
   ],
   "source": [
    "# Gráfico de dispersión entre Edad y nWBV en toda la población\n",
    "g = sns.jointplot(x=\"Edad\", y=\"nWBV\",\n",
    "                 data=dementiaData2, kind=\"reg\",\n",
    "                 line_kws={'color':'orange'},\n",
    "                  scatter_kws={'alpha': 0.33},\n",
    "                )\n",
    "g.fig.set_size_inches(4, 4)\n",
    "g.fig.suptitle(\"Correlación entre la Edad y nWBV en toda la población\",\n",
    "                fontsize=16, weight=\"bold\", y=1.05)"
   ]
  },
  {
   "cell_type": "code",
   "execution_count": 38,
   "id": "8cc53ad0",
   "metadata": {
    "execution": {
     "iopub.execute_input": "2021-08-28T00:40:48.794706Z",
     "iopub.status.busy": "2021-08-28T00:40:48.793638Z",
     "iopub.status.idle": "2021-08-28T00:40:49.430942Z",
     "shell.execute_reply": "2021-08-28T00:40:49.430343Z",
     "shell.execute_reply.started": "2021-08-28T00:39:30.454559Z"
    },
    "papermill": {
     "duration": 0.757394,
     "end_time": "2021-08-28T00:40:49.431088",
     "exception": false,
     "start_time": "2021-08-28T00:40:48.673694",
     "status": "completed"
    },
    "tags": []
   },
   "outputs": [
    {
     "data": {
      "text/plain": [
       "Text(0.5, 1.05, 'Correlación entre la Edad y nWBV en adultos mayores de 60 años')"
      ]
     },
     "execution_count": 38,
     "metadata": {},
     "output_type": "execute_result"
    },
    {
     "data": {
      "image/png": "[encoded data removed]",
      "text/plain": [
       "<Figure size 288x288 with 3 Axes>"
      ]
     },
     "metadata": {
      "needs_background": "light"
     },
     "output_type": "display_data"
    }
   ],
   "source": [
    "# Gráfico de dispersión entre Edad y nWBV en adultos mayores de 60 años\n",
    "g = sns.jointplot(x=\"Edad\", y=\"nWBV\",\n",
    "                 data=adultosMayores, kind=\"reg\",\n",
    "                 line_kws={'color':'orange'},\n",
    "                  scatter_kws={'alpha': 0.33},\n",
    "                )\n",
    "g.fig.set_size_inches(4, 4)\n",
    "g.fig.suptitle(\"Correlación entre la Edad y nWBV en adultos mayores de 60 años\",\n",
    "                fontsize=16, weight=\"bold\", y=1.05)"
   ]
  },
  {
   "cell_type": "markdown",
   "id": "3f6931c5",
   "metadata": {
    "papermill": {
     "duration": 0.076965,
     "end_time": "2021-08-28T00:40:49.592569",
     "exception": false,
     "start_time": "2021-08-28T00:40:49.515604",
     "status": "completed"
    },
    "tags": []
   },
   "source": [
    "La Edad y\n",
    "el Volumen total del cerebro normalizado presentan una\n",
    "correlación lineal muy alta (-0.87) y negativa en adultos entre\n",
    "18-96 años, pero esta disminuye (-0.56) en el grupo de\n",
    "adultos mayores, lo que podría indicar que la influencia de la\n",
    "edad en el nWBV de este grupo etario disminuye."
   ]
  },
  {
   "cell_type": "code",
   "execution_count": 39,
   "id": "5c88224f",
   "metadata": {
    "execution": {
     "iopub.execute_input": "2021-08-28T00:40:49.758114Z",
     "iopub.status.busy": "2021-08-28T00:40:49.757408Z",
     "iopub.status.idle": "2021-08-28T00:40:49.761127Z",
     "shell.execute_reply": "2021-08-28T00:40:49.760472Z",
     "shell.execute_reply.started": "2021-08-28T00:39:31.130195Z"
    },
    "id": "G1lFP39p1EEQ",
    "papermill": {
     "duration": 0.090849,
     "end_time": "2021-08-28T00:40:49.761268",
     "exception": false,
     "start_time": "2021-08-28T00:40:49.670419",
     "status": "completed"
    },
    "tags": []
   },
   "outputs": [],
   "source": [
    "dementiaData2[\"CDR\"] = pd.cut(dementiaData2.CDR, bins=[-1, 0.4,0.6,1.5, 2],labels=['0', '0.5', '1', '2'])\n",
    "adultosMayores[\"CDR\"] = pd.cut(adultosMayores.CDR, bins=[-1, 0.4,0.6,1.5, 2],labels=['0', '0.5', '1', '2'])"
   ]
  },
  {
   "cell_type": "code",
   "execution_count": 40,
   "id": "c4117a0b",
   "metadata": {
    "execution": {
     "iopub.execute_input": "2021-08-28T00:40:49.945621Z",
     "iopub.status.busy": "2021-08-28T00:40:49.944791Z",
     "iopub.status.idle": "2021-08-28T00:40:50.290832Z",
     "shell.execute_reply": "2021-08-28T00:40:50.291322Z",
     "shell.execute_reply.started": "2021-08-28T00:39:31.141362Z"
    },
    "id": "Qc6VxjwfxS_O",
    "outputId": "0851997e-28b9-44f2-9e82-c185f7511057",
    "papermill": {
     "duration": 0.452613,
     "end_time": "2021-08-28T00:40:50.291505",
     "exception": false,
     "start_time": "2021-08-28T00:40:49.838892",
     "status": "completed"
    },
    "tags": []
   },
   "outputs": [
    {
     "data": {
      "text/plain": [
       "<AxesSubplot:xlabel='nWBV', ylabel='Count'>"
      ]
     },
     "execution_count": 40,
     "metadata": {},
     "output_type": "execute_result"
    },
    {
     "data": {
      "image/png": "[encoded data removed]",
      "text/plain": [
       "<Figure size 432x288 with 1 Axes>"
      ]
     },
     "metadata": {
      "needs_background": "light"
     },
     "output_type": "display_data"
    }
   ],
   "source": [
    "# Histograma de Edad según el CDR en toda la población\n",
    "sns.histplot(data=dementiaData2, x=\"nWBV\",hue='CDR',multiple=\"stack\")"
   ]
  },
  {
   "cell_type": "code",
   "execution_count": 41,
   "id": "5244e5f8",
   "metadata": {
    "execution": {
     "iopub.execute_input": "2021-08-28T00:40:50.451067Z",
     "iopub.status.busy": "2021-08-28T00:40:50.450370Z",
     "iopub.status.idle": "2021-08-28T00:40:50.817933Z",
     "shell.execute_reply": "2021-08-28T00:40:50.818444Z",
     "shell.execute_reply.started": "2021-08-28T00:39:31.521371Z"
    },
    "papermill": {
     "duration": 0.448628,
     "end_time": "2021-08-28T00:40:50.818613",
     "exception": false,
     "start_time": "2021-08-28T00:40:50.369985",
     "status": "completed"
    },
    "tags": []
   },
   "outputs": [
    {
     "data": {
      "text/plain": [
       "<AxesSubplot:xlabel='nWBV', ylabel='Count'>"
      ]
     },
     "execution_count": 41,
     "metadata": {},
     "output_type": "execute_result"
    },
    {
     "data": {
      "image/png": "[encoded data removed]",
      "text/plain": [
       "<Figure size 432x288 with 1 Axes>"
      ]
     },
     "metadata": {
      "needs_background": "light"
     },
     "output_type": "display_data"
    }
   ],
   "source": [
    "# Histograma de Edad según el CDR en adultos mayores de 60 años\n",
    "sns.histplot(data=adultosMayores, x=\"nWBV\",hue='CDR',multiple=\"stack\")"
   ]
  },
  {
   "cell_type": "markdown",
   "id": "fb38a826",
   "metadata": {
    "papermill": {
     "duration": 0.080589,
     "end_time": "2021-08-28T00:40:50.978979",
     "exception": false,
     "start_time": "2021-08-28T00:40:50.898390",
     "status": "completed"
    },
    "tags": []
   },
   "source": [
    "Se puede observar que en la primera gráfica,\n",
    "con los sujetos entre 18-96 años, la distribución del grado de\n",
    "demencia “Sin demencia (0)” está más presente en\n",
    "porcentajes altos del nWBV y los demás en porcentajes más\n",
    "bajos. Pero en la segunda gráfica, con solo adultos mayores,\n",
    "la tendencia se hace menos notoria, indicando que en este\n",
    "grupo etario, las probabilidades de presentar algún grado de\n",
    "demencia solo según el nWBV son muy difusas."
   ]
  },
  {
   "cell_type": "code",
   "execution_count": 42,
   "id": "f13de1f4",
   "metadata": {
    "execution": {
     "iopub.execute_input": "2021-08-28T00:40:51.153598Z",
     "iopub.status.busy": "2021-08-28T00:40:51.152849Z",
     "iopub.status.idle": "2021-08-28T00:40:51.914607Z",
     "shell.execute_reply": "2021-08-28T00:40:51.915150Z",
     "shell.execute_reply.started": "2021-08-28T00:39:31.893960Z"
    },
    "id": "IAXnmiD2XlgZ",
    "outputId": "ea8ea104-2009-44a9-b649-890e705eff68",
    "papermill": {
     "duration": 0.856563,
     "end_time": "2021-08-28T00:40:51.915323",
     "exception": false,
     "start_time": "2021-08-28T00:40:51.058760",
     "status": "completed"
    },
    "tags": []
   },
   "outputs": [
    {
     "data": {
      "text/plain": [
       "Text(0.5, 1.05, 'Correlación entre MMSE y nWBV en toda la población')"
      ]
     },
     "execution_count": 42,
     "metadata": {},
     "output_type": "execute_result"
    },
    {
     "data": {
      "image/png": "[encoded data removed]",
      "text/plain": [
       "<Figure size 288x288 with 3 Axes>"
      ]
     },
     "metadata": {
      "needs_background": "light"
     },
     "output_type": "display_data"
    }
   ],
   "source": [
    "# Gráfico de dispersión entre MMSE y nWBV en toda la población\n",
    "g = sns.jointplot(x=\"MMSE\", y=\"nWBV\",\n",
    "                 data=dementiaData2, kind=\"reg\",\n",
    "                 line_kws={'color':'orange'},\n",
    "                 scatter_kws={'alpha': 0.33})\n",
    "g.fig.set_size_inches(4, 4)\n",
    "g.fig.suptitle(\"Correlación entre MMSE y nWBV en toda la población\",\n",
    "                   fontsize=16, weight=\"bold\", y=1.05)"
   ]
  },
  {
   "cell_type": "code",
   "execution_count": 43,
   "id": "fe63f2e5",
   "metadata": {
    "execution": {
     "iopub.execute_input": "2021-08-28T00:40:52.081317Z",
     "iopub.status.busy": "2021-08-28T00:40:52.080605Z",
     "iopub.status.idle": "2021-08-28T00:40:52.760116Z",
     "shell.execute_reply": "2021-08-28T00:40:52.759467Z",
     "shell.execute_reply.started": "2021-08-28T00:39:32.877976Z"
    },
    "papermill": {
     "duration": 0.763673,
     "end_time": "2021-08-28T00:40:52.760284",
     "exception": false,
     "start_time": "2021-08-28T00:40:51.996611",
     "status": "completed"
    },
    "tags": []
   },
   "outputs": [
    {
     "data": {
      "text/plain": [
       "Text(0.5, 1.05, 'Correlación entre MMSE y nWBV en adultos mayores de 60 años')"
      ]
     },
     "execution_count": 43,
     "metadata": {},
     "output_type": "execute_result"
    },
    {
     "data": {
      "image/png": "[encoded data removed]",
      "text/plain": [
       "<Figure size 288x288 with 3 Axes>"
      ]
     },
     "metadata": {
      "needs_background": "light"
     },
     "output_type": "display_data"
    }
   ],
   "source": [
    "# Gráfico de dispersión entre MMSE y nWBV en adultos mayores de 60 años\n",
    "g = sns.jointplot(x=\"MMSE\", y=\"nWBV\",\n",
    "                 data=adultosMayores, kind=\"reg\",\n",
    "                 line_kws={'color':'orange'},\n",
    "                 scatter_kws={'alpha': 0.33})\n",
    "g.fig.set_size_inches(4, 4)\n",
    "g.fig.suptitle(\"Correlación entre MMSE y nWBV en adultos mayores de 60 años\",\n",
    "                   fontsize=16, weight=\"bold\", y=1.05)"
   ]
  },
  {
   "cell_type": "markdown",
   "id": "00850230",
   "metadata": {
    "papermill": {
     "duration": 0.084114,
     "end_time": "2021-08-28T00:40:52.929106",
     "exception": false,
     "start_time": "2021-08-28T00:40:52.844992",
     "status": "completed"
    },
    "tags": []
   },
   "source": [
    "Se puede ver en los gráficos anteriores que, a medida que el volumen total del cerebro\n",
    "normalizado disminuye el rendimiento en el test cognitivo\n",
    "MMSE también lo hace. La correlación es lineal, moderada y\n",
    "positiva (0.52) en adultos entre 18-96 años, pero disminuye\n",
    "en los adultos mayores de 60 años (0.40). En ambos gráficos de dispersión, los puntajes del MMSE\n",
    "no se ajustan fuertemente a la tendencia lineal en función del\n",
    "nWBV."
   ]
  },
  {
   "cell_type": "markdown",
   "id": "af5b7cb3",
   "metadata": {
    "papermill": {
     "duration": 0.083438,
     "end_time": "2021-08-28T00:40:53.095448",
     "exception": false,
     "start_time": "2021-08-28T00:40:53.012010",
     "status": "completed"
    },
    "tags": []
   },
   "source": [
    "La relación se hace cada vez menor si se analiza la relación\n",
    "entre la edad y los distintos grados de demencia, pero sigue\n",
    "siendo una relación positiva. Como se ve en los siguientes graficos:"
   ]
  },
  {
   "cell_type": "code",
   "execution_count": 44,
   "id": "a14b4590",
   "metadata": {
    "execution": {
     "iopub.execute_input": "2021-08-28T00:40:53.297052Z",
     "iopub.status.busy": "2021-08-28T00:40:53.287979Z",
     "iopub.status.idle": "2021-08-28T00:40:53.664153Z",
     "shell.execute_reply": "2021-08-28T00:40:53.663586Z",
     "shell.execute_reply.started": "2021-08-28T00:39:33.564531Z"
    },
    "id": "cKzcz8pNxljL",
    "outputId": "1e60fda1-f422-4e13-b63a-5646901fff58",
    "papermill": {
     "duration": 0.485323,
     "end_time": "2021-08-28T00:40:53.664368",
     "exception": false,
     "start_time": "2021-08-28T00:40:53.179045",
     "status": "completed"
    },
    "tags": []
   },
   "outputs": [
    {
     "data": {
      "text/plain": [
       "<AxesSubplot:xlabel='Edad', ylabel='Count'>"
      ]
     },
     "execution_count": 44,
     "metadata": {},
     "output_type": "execute_result"
    },
    {
     "data": {
      "image/png": "[encoded data removed]",
      "text/plain": [
       "<Figure size 432x288 with 1 Axes>"
      ]
     },
     "metadata": {
      "needs_background": "light"
     },
     "output_type": "display_data"
    }
   ],
   "source": [
    "# Histograma de Edad segun el CDR en toda la población\n",
    "sns.histplot(data=dementiaData2, x=\"Edad\",hue='CDR',multiple=\"stack\")"
   ]
  },
  {
   "cell_type": "code",
   "execution_count": 45,
   "id": "37959844",
   "metadata": {
    "execution": {
     "iopub.execute_input": "2021-08-28T00:40:53.869482Z",
     "iopub.status.busy": "2021-08-28T00:40:53.868604Z",
     "iopub.status.idle": "2021-08-28T00:40:54.196326Z",
     "shell.execute_reply": "2021-08-28T00:40:54.195725Z",
     "shell.execute_reply.started": "2021-08-28T00:39:33.932897Z"
    },
    "papermill": {
     "duration": 0.447246,
     "end_time": "2021-08-28T00:40:54.196470",
     "exception": false,
     "start_time": "2021-08-28T00:40:53.749224",
     "status": "completed"
    },
    "tags": []
   },
   "outputs": [
    {
     "data": {
      "text/plain": [
       "<AxesSubplot:xlabel='Edad', ylabel='Count'>"
      ]
     },
     "execution_count": 45,
     "metadata": {},
     "output_type": "execute_result"
    },
    {
     "data": {
      "image/png": "[encoded data removed]",
      "text/plain": [
       "<Figure size 432x288 with 1 Axes>"
      ]
     },
     "metadata": {
      "needs_background": "light"
     },
     "output_type": "display_data"
    }
   ],
   "source": [
    "# Histograma de Edad segun el CDR en adultos mayores de 60 años\n",
    "sns.histplot(data=adultosMayores, x=\"Edad\",hue='CDR',multiple=\"stack\")"
   ]
  },
  {
   "cell_type": "markdown",
   "id": "40363601",
   "metadata": {
    "papermill": {
     "duration": 0.085348,
     "end_time": "2021-08-28T00:40:54.418823",
     "exception": false,
     "start_time": "2021-08-28T00:40:54.333475",
     "status": "completed"
    },
    "tags": []
   },
   "source": [
    "La correlación es moderada\n",
    "(0.49) en adultos entre 18-96 años, pero en los adultos\n",
    "mayores la correlación cambia notoriamente, obteniendo una\n",
    "correlación muy baja (0.091). A diferencia de la distribución de arriba, en los adultos\n",
    "mayores se puede ver que los distintos grados de demencia\n",
    "no siguen una tendencia muy clara según la edad, indicando\n",
    "que en este grupo etario, las probabilidades de presentar algún\n",
    "grado de demencia solo por la Edad son muy difusas."
   ]
  },
  {
   "cell_type": "markdown",
   "id": "ad83ccaa",
   "metadata": {
    "papermill": {
     "duration": 0.085361,
     "end_time": "2021-08-28T00:40:54.590025",
     "exception": false,
     "start_time": "2021-08-28T00:40:54.504664",
     "status": "completed"
    },
    "tags": []
   },
   "source": [
    "## **Conclusión**"
   ]
  },
  {
   "cell_type": "markdown",
   "id": "536b803c",
   "metadata": {
    "papermill": {
     "duration": 0.086595,
     "end_time": "2021-08-28T00:40:54.766080",
     "exception": false,
     "start_time": "2021-08-28T00:40:54.679485",
     "status": "completed"
    },
    "tags": []
   },
   "source": [
    "En el análisis exploratorio, se pudo encontrar las siguientes variables asociadas a la demencia: volumen total del cerebro, edad, rendimiento en el test cognitivo MMSE y el grado de demencia CDR, no se encontraron diferencias notables en cuanto género o grado educativo. Además se encontró que las correlaciones disminuyen si las variables son analizadas en población adulta mayor."
   ]
  }
 ],
 "metadata": {
  "kernelspec": {
   "display_name": "Python 3",
   "language": "python",
   "name": "python3"
  },
  "language_info": {
   "codemirror_mode": {
    "name": "ipython",
    "version": 3
   },
   "file_extension": ".py",
   "mimetype": "text/x-python",
   "name": "python",
   "nbconvert_exporter": "python",
   "pygments_lexer": "ipython3",
   "version": "3.7.10"
  },
  "papermill": {
   "default_parameters": {},
   "duration": 33.954359,
   "end_time": "2021-08-28T00:40:56.195788",
   "environment_variables": {},
   "exception": null,
   "input_path": "__notebook__.ipynb",
   "output_path": "__notebook__.ipynb",
   "parameters": {},
   "start_time": "2021-08-28T00:40:22.241429",
   "version": "2.3.3"
  }
 },
 "nbformat": 4,
 "nbformat_minor": 5
}
